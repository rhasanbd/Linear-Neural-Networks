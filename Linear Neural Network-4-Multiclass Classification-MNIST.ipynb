{
 "cells": [
  {
   "cell_type": "markdown",
   "metadata": {},
   "source": [
    "# Linear Neural Network - Softmax Regression - MNIST\n",
    "\n",
    "In this notebook, we formulate the Softmax Regression technique for multiclass classification as a Linear Neural Network (LNN) model. We use the MNIST handwritten digits dataset for our classification tasks.\n",
    "\n",
    "\n",
    "We will apply **two types of regularization** in the LNN model:\n",
    "- Weight-based regularization (L2 or L1)\n",
    "- Early stopping"
   ]
  },
  {
   "cell_type": "code",
   "execution_count": 1,
   "metadata": {},
   "outputs": [],
   "source": [
    "import numpy as np\n",
    "import matplotlib.pyplot as plt\n",
    "\n",
    "\n",
    "from sklearn.datasets import fetch_openml\n",
    "from sklearn.model_selection import train_test_split\n",
    "from sklearn.metrics import confusion_matrix, accuracy_score, classification_report\n",
    "\n",
    "import tensorflow as tf"
   ]
  },
  {
   "cell_type": "markdown",
   "metadata": {},
   "source": [
    "## Multiclass Dataset\n",
    "\n",
    "\n",
    "We use the MNIST (Modified National Institute of Standards and Technology) dataset, which is a set of 70,000 small images of digits handwritten by high school students and employees of the US Census Bureau. Each image is labeled with the digit it represents.\n",
    "\n",
    "\n",
    "There are 70,000 images. Each image is **grayscale 28 x 28 pixels**, and each feature simply represents one pixel’s intensity, from 0 (white) to 255 (black).\n",
    "\n",
    "Thus, each image has **784 features**. \n",
    "\n",
    "The task is to classify a given image of a handwritten digit into one of 10 classes representing integer values from 0 to 9, inclusively.\n"
   ]
  },
  {
   "cell_type": "markdown",
   "metadata": {},
   "source": [
    "## Load the Dataset"
   ]
  },
  {
   "cell_type": "code",
   "execution_count": 2,
   "metadata": {},
   "outputs": [
    {
     "name": "stdout",
     "output_type": "stream",
     "text": [
      "\n",
      "No. of Samples:  (70000, 784)\n",
      "No. of Labels:  (70000,)\n"
     ]
    }
   ],
   "source": [
    "# Load data \n",
    "mnist = fetch_openml('mnist_784', parser='auto', cache=False)\n",
    "\n",
    "# Create feature matrix and target array; then typecast\n",
    "X = mnist[\"data\"].astype('float32')\n",
    "y = mnist[\"target\"].astype('int64')\n",
    "\n",
    "\n",
    "print(\"\\nNo. of Samples: \", X.shape)\n",
    "print(\"No. of Labels: \", y.shape)"
   ]
  },
  {
   "cell_type": "markdown",
   "metadata": {},
   "source": [
    "## Scale the Dataset"
   ]
  },
  {
   "cell_type": "code",
   "execution_count": 3,
   "metadata": {},
   "outputs": [],
   "source": [
    "X /= 255.0"
   ]
  },
  {
   "cell_type": "markdown",
   "metadata": {},
   "source": [
    "## Create Train, Validation, and Test Subsets"
   ]
  },
  {
   "cell_type": "code",
   "execution_count": 4,
   "metadata": {},
   "outputs": [
    {
     "name": "stdout",
     "output_type": "stream",
     "text": [
      "\n",
      "Shape of Training Samples:  (44800, 784)\n",
      "Shape of Training Labels:  (44800,)\n",
      "\n",
      "Shape of Validation Samples:  (11200, 784)\n",
      "Shape of Validation Labels:  (11200,)\n",
      "\n",
      "Shape of Testing Samples:  (14000, 784)\n",
      "Shape of Testing Labels:  (14000,)\n"
     ]
    }
   ],
   "source": [
    "# Create training and test subsets from the full dataset\n",
    "X_train_full, X_test, y_train_full, y_test = train_test_split(X, y, test_size=0.2, random_state=0)\n",
    "\n",
    "# Create train and validation subsets from the training set\n",
    "X_train, X_valid, y_train, y_valid = train_test_split(X_train_full, y_train_full, test_size=0.2, random_state=0)\n",
    "\n",
    "print(\"\\nShape of Training Samples: \", X_train.shape)\n",
    "print(\"Shape of Training Labels: \", y_train.shape)\n",
    "\n",
    "print(\"\\nShape of Validation Samples: \", X_valid.shape)\n",
    "print(\"Shape of Validation Labels: \", y_valid.shape)\n",
    "\n",
    "print(\"\\nShape of Testing Samples: \", X_test.shape)\n",
    "print(\"Shape of Testing Labels: \", y_test.shape)"
   ]
  },
  {
   "cell_type": "markdown",
   "metadata": {},
   "source": [
    "## Create an LNN Model\n",
    "\n",
    "We use the Keras Dense layer to create an LNN model for Softmax Regression. In a Dense layer, each neuron is fully connected to all inputs/neurons of the previous layer.\n",
    "\n",
    "To build the LNN model, we will use the Sequential class from tf.keras.models, a module in TensorFlow's Keras API that allows us to stack layers, such as Dense layers, in a linear sequence. This makes it easy to define models layer by layer.\n",
    "\n",
    "The LNN model:\n",
    "- Has 10 output neurons, corresponding to the MNIST 10-class classification problem.\n",
    "- Uses the softmax activation function to convert the output into probabilities.\n",
    "\n",
    "\n",
    "First, we need to specify the shape of the input using the Input layer, which instantiates a Keras tensor—a symbolic TensorFlow tensor.\n",
    "- The \"shape\" parameter is a tuple of integers that defines the dimensionality of the input vectors. In this demo, the input is a 784-dimensional vector obtained by flattening the 28x28 matrices during data loading, so we use the tuple (784,). Note that the batch size is not included in this shape definition.\n",
    "\n",
    "\n",
    "Dense layer:\n",
    "- kernel_initializer: We initialize the weights (the kernel) to **zero**. This is acceptable for logistic/softmax regression. However, for nonlinear networks like Multi-layer Perceptrons (MLPs), we need to use initializers like Glorot or He, which assign small random values to the weights.\n",
    "- activation: We use the softmax activation function.\n",
    "\n",
    "### Implementing Weight-based Regularization\n",
    "- Weight-based regularization can be implemented in Keras using the regularizers argument in layers. Regularization helps to prevent overfitting by penalizing large weights and adding a penalty term to the loss function.\n",
    "- L2 Regularization adds a penalty proportional to the sum of the squared weights, discouraging large weight values. L1 Regularization adds a penalty proportional to the absolute values of the weights, encouraging sparsity by driving some weights to zero.\n",
    "- We can apply L1 or L2 regularization (or a combination of both, called Elastic Net regularization) using the tf.keras.regularizers.L1 or tf.keras.regularizers.L2 functions.\n",
    "\n",
    "      -- Parameters: l1/l2: The regularization factor, controlling the strength of the penalty. Larger values mean stronger regularization."
   ]
  },
  {
   "cell_type": "code",
   "execution_count": 5,
   "metadata": {},
   "outputs": [
    {
     "name": "stdout",
     "output_type": "stream",
     "text": [
      "Model: \"LNN_MNIST\"\n",
      "_________________________________________________________________\n",
      " Layer (type)                Output Shape              Param #   \n",
      "=================================================================\n",
      " dense (Dense)               (None, 10)                7850      \n",
      "                                                                 \n",
      "=================================================================\n",
      "Total params: 7,850\n",
      "Trainable params: 7,850\n",
      "Non-trainable params: 0\n",
      "_________________________________________________________________\n",
      "CPU times: user 13.5 ms, sys: 3.05 ms, total: 16.6 ms\n",
      "Wall time: 15.1 ms\n"
     ]
    }
   ],
   "source": [
    "%%time\n",
    "\n",
    "'''\n",
    "Delete the TensorFlow graph before creating a new model, otherwise, memory overflow will occur.\n",
    "'''\n",
    "tf.keras.backend.clear_session()\n",
    "\n",
    "'''\n",
    "To reproduce the same result by the model in each iteration, we use fixed seeds for random number generation. \n",
    "np.random.seed(42) ensures that any random numbers generated using NumPy will be the same in each run.\n",
    "tf.random.set_seed(42) ensures that any random numbers generated using TensorFlow \n",
    "(such as during weight initialization or stochastic processes in TensorFlow) will be the same in each run.\n",
    "'''\n",
    "np.random.seed(42)\n",
    "tf.random.set_seed(42)\n",
    "\n",
    "\n",
    "number_of_classes = 10\n",
    "# Declare and initialize the weight-based regularizer variable\n",
    "# To disable weight-based regularization, set this variable to None\n",
    "regularizer = None\n",
    "#tf.keras.regularizers.L2(l2=0.0001)\n",
    "#regularizer = tf.keras.regularizers.L2(l2=0.0001)\n",
    "\n",
    "\n",
    "'''\n",
    "Create a Sequential model composed of a single stack of layers connected sequentially. \n",
    "'''\n",
    "model = tf.keras.models.Sequential(name=\"LNN_MNIST\")\n",
    "model.add(tf.keras.layers.Input(shape=[784,]))\n",
    "model.add(tf.keras.layers.Dense(units=number_of_classes, \n",
    "                                kernel_initializer=\"zeros\",\n",
    "                                kernel_regularizer=regularizer,\n",
    "                                activation=\"softmax\"))\n",
    "\n",
    "\n",
    "# Display a detailed summary of the model: layer names and types, output shape, and the number of parameters\n",
    "model.summary() "
   ]
  },
  {
   "cell_type": "markdown",
   "metadata": {},
   "source": [
    "## Compile & Train the LNN Model\n",
    "\n",
    "A Keras model automatically employs the **backpropagation** algorithm to train an artificial neural network (ANN). However, we need to specify an optimization algorithm.\n",
    "\n",
    "There are various advanced optimizers available, but for our LNN, we will use the **stochastic gradient descent (SGD)** optimizer, which requires setting an appropriate learning rate.\n",
    "\n",
    "We will implement mini-batch SGD, so it's essential to specify both the batch size and the number of epochs.\n",
    "\n",
    "\n",
    "### History Object\n",
    "To monitor the performance of our model during training, we will utilize the tf.keras.callbacks.History object. This object automatically tracks key metrics, such as loss and accuracy, for each epoch across both training and validation datasets.\n",
    "\n",
    "The History object is automatically applied when a model is trained using the fit() method in TensorFlow Keras. It records metrics, including:\n",
    "- Loss for both training and validation data.\n",
    "- Accuracy (or other metrics) for both training and validation data.\n",
    "\n",
    "By analyzing this recorded history, we can assess the effectiveness of our training process and make necessary adjustments.\n",
    "\n",
    "\n",
    "### Implementing Early Stopping\n",
    "\n",
    "We can implement early stopping by using the **EarlyStopping callback** function. It will interrupt training when it measures no progress on the validation set for a number of epochs (defined by the patience argument), and it will optionally roll back to the best model. \n",
    "\n",
    "The following are the parameters of this callback:\n",
    "- monitor: Quantity to be monitored.\n",
    "- min_delta: Minimum change in the monitored quantity to qualify as an improvement, i.e., an absolute change of less than min_delta, will count as no improvement.\n",
    "- patience: Number of epochs with no improvement after which training will be stopped.\n",
    "- verbose: verbosity mode.\n",
    "- mode: One of {\"auto\", \"min\", \"max\"}. In min mode, training will stop when the quantity monitored has stopped decreasing; in \"max\" mode it will stop when the quantity monitored has stopped increasing; in \"auto\" mode, the direction is automatically inferred from the name of the monitored quantity.\n",
    "- baseline: Baseline value for the monitored quantity. Training will stop if the model doesn't show improvement over the baseline.\n",
    "- restore_best_weights: Whether to restore model weights from the epoch with the best value of the monitored quantity. If False, the model weights obtained at the last step of training are used.\n"
   ]
  },
  {
   "cell_type": "code",
   "execution_count": 6,
   "metadata": {},
   "outputs": [
    {
     "name": "stderr",
     "output_type": "stream",
     "text": [
      "WARNING:absl:At this time, the v2.11+ optimizer `tf.keras.optimizers.SGD` runs slowly on M1/M2 Macs, please use the legacy Keras optimizer instead, located at `tf.keras.optimizers.legacy.SGD`.\n",
      "WARNING:absl:There is a known slowdown when using v2.11+ Keras optimizers on M1/M2 Macs. Falling back to the legacy Keras optimizer, i.e., `tf.keras.optimizers.legacy.SGD`.\n"
     ]
    },
    {
     "name": "stdout",
     "output_type": "stream",
     "text": [
      "Epoch 1/100\n",
      "158/700 [=====>........................] - ETA: 0s - loss: 0.5400 - accuracy: 0.8444 "
     ]
    },
    {
     "name": "stderr",
     "output_type": "stream",
     "text": [
      "2024-10-02 10:44:43.741949: W tensorflow/tsl/platform/profile_utils/cpu_utils.cc:128] Failed to get CPU frequency: 0 Hz\n"
     ]
    },
    {
     "name": "stdout",
     "output_type": "stream",
     "text": [
      "700/700 [==============================] - 0s 450us/step - loss: 0.3876 - accuracy: 0.8894 - val_loss: 0.3023 - val_accuracy: 0.9143\n",
      "Epoch 2/100\n",
      "700/700 [==============================] - 0s 377us/step - loss: 0.3060 - accuracy: 0.9137 - val_loss: 0.3050 - val_accuracy: 0.9112\n",
      "Epoch 3/100\n",
      "700/700 [==============================] - 0s 380us/step - loss: 0.2914 - accuracy: 0.9171 - val_loss: 0.2859 - val_accuracy: 0.9185\n",
      "Epoch 4/100\n",
      "700/700 [==============================] - 0s 377us/step - loss: 0.2824 - accuracy: 0.9206 - val_loss: 0.2869 - val_accuracy: 0.9191\n",
      "Epoch 5/100\n",
      "700/700 [==============================] - 0s 375us/step - loss: 0.2775 - accuracy: 0.9218 - val_loss: 0.2861 - val_accuracy: 0.9201\n",
      "Epoch 6/100\n",
      "700/700 [==============================] - 0s 376us/step - loss: 0.2721 - accuracy: 0.9242 - val_loss: 0.2844 - val_accuracy: 0.9204\n",
      "Epoch 7/100\n",
      "700/700 [==============================] - 0s 374us/step - loss: 0.2702 - accuracy: 0.9244 - val_loss: 0.2874 - val_accuracy: 0.9167\n",
      "Epoch 8/100\n",
      "700/700 [==============================] - 0s 375us/step - loss: 0.2672 - accuracy: 0.9251 - val_loss: 0.2915 - val_accuracy: 0.9187\n",
      "Epoch 9/100\n",
      "700/700 [==============================] - 0s 367us/step - loss: 0.2631 - accuracy: 0.9268 - val_loss: 0.2778 - val_accuracy: 0.9204\n",
      "Epoch 10/100\n",
      "700/700 [==============================] - 0s 369us/step - loss: 0.2623 - accuracy: 0.9266 - val_loss: 0.2845 - val_accuracy: 0.9187\n",
      "Epoch 11/100\n",
      "700/700 [==============================] - 0s 361us/step - loss: 0.2598 - accuracy: 0.9273 - val_loss: 0.2910 - val_accuracy: 0.9180\n",
      "Epoch 12/100\n",
      "700/700 [==============================] - 0s 364us/step - loss: 0.2590 - accuracy: 0.9272 - val_loss: 0.2822 - val_accuracy: 0.9219\n",
      "Epoch 13/100\n",
      "700/700 [==============================] - 0s 357us/step - loss: 0.2570 - accuracy: 0.9281 - val_loss: 0.2913 - val_accuracy: 0.9178\n",
      "Epoch 14/100\n",
      "700/700 [==============================] - 0s 358us/step - loss: 0.2553 - accuracy: 0.9294 - val_loss: 0.2828 - val_accuracy: 0.9205\n",
      "Epoch 15/100\n",
      "700/700 [==============================] - 0s 358us/step - loss: 0.2559 - accuracy: 0.9292 - val_loss: 0.2880 - val_accuracy: 0.9204\n",
      "Epoch 16/100\n",
      "700/700 [==============================] - 0s 360us/step - loss: 0.2535 - accuracy: 0.9293 - val_loss: 0.3158 - val_accuracy: 0.9069\n",
      "Epoch 17/100\n",
      "700/700 [==============================] - 0s 361us/step - loss: 0.2528 - accuracy: 0.9292 - val_loss: 0.2821 - val_accuracy: 0.9226\n",
      "Epoch 18/100\n",
      "700/700 [==============================] - 0s 370us/step - loss: 0.2507 - accuracy: 0.9305 - val_loss: 0.2855 - val_accuracy: 0.9215\n",
      "Epoch 19/100\n",
      "687/700 [============================>.] - ETA: 0s - loss: 0.2509 - accuracy: 0.9293Restoring model weights from the end of the best epoch: 9.\n",
      "700/700 [==============================] - 0s 363us/step - loss: 0.2510 - accuracy: 0.9292 - val_loss: 0.2830 - val_accuracy: 0.9216\n",
      "Epoch 19: early stopping\n"
     ]
    }
   ],
   "source": [
    "'''\n",
    "Define the optimizer\n",
    "An optimizer object implements an optimization algorithm used to minimize the loss function during model training.\n",
    "Below, the stochastic gradient descent (SGD) optimizer is used.\n",
    "'''\n",
    "optimizer = tf.keras.optimizers.SGD(learning_rate=0.5)\n",
    "\n",
    "\n",
    "'''\n",
    "Define loss function\n",
    "\n",
    "In multiclass classification, there are two choices for the loss function: \n",
    "- CategoricalCrossentropy for one-hot encoded labels\n",
    "- SparseCategoricalCrossentropy for integer-encoded labels\n",
    "\n",
    "If the output layer produces logits (i.e., raw scores without applying softmax), set from_logits=True. \n",
    "In this case, Keras will internally apply the softmax function to convert the logits \n",
    "into probabilities before calculating the cross-entropy loss.\n",
    "\n",
    "However, if the output layer already includes a softmax activation (so it outputs probabilities that sum to 1), \n",
    "set from_logits=False. Since the output is already in the form of probabilities, \n",
    "the loss function does not need to apply any additional transformations.\n",
    "\n",
    "Since our labels are integer-encoded, we use SparseCategoricalCrossentropy.\n",
    "'''\n",
    "loss_fn = tf.keras.losses.SparseCategoricalCrossentropy(from_logits=False)\n",
    "\n",
    "\n",
    "'''\n",
    "Compile the model\n",
    "\n",
    "The model.compile() method is used to configure the model for training. \n",
    "It prepares the model for the training process by defining how the model will learn and be evaluated.\n",
    "It specifies three key components:\n",
    "- Optimizer: The algorithm used to update the weights of the model (e.g., SGD).\n",
    "- Loss function: The function the model tries to minimize, \n",
    "  which measures how well the model's predictions match the true values (e.g., binary_crossentropy, mean_squared_error).\n",
    "- Metrics: Additional evaluation criteria for the model's performance, such as accuracy, \n",
    "           which are not involved in training but are used for monitoring.\n",
    "\n",
    "'''\n",
    "model.compile(loss=loss_fn,\n",
    "              optimizer=optimizer,\n",
    "              metrics=[\"accuracy\"])\n",
    "\n",
    "'''\n",
    "Set the epochs and batch size\n",
    "'''\n",
    "no_of_epochs = 100\n",
    "size_of_mini_batch = 64\n",
    "\n",
    "\n",
    "'''\n",
    "Declare and initialize the early stopping callback function\n",
    "- It will monitor validation loss and stop training if there are no improvements for 10 consecutive epochs\n",
    "- With restore_best_weights set to True, the model will revert to the weights from the epoch \n",
    "where the validation loss (or other monitored metric) was at its minimum.\n",
    "- With min_delta set to 0, any improvement in the monitored metric (such as validation loss) will be considered as progress.\n",
    "  -- If min_delta=0, the early stopping callback will consider even the smallest change (positive or negative) \n",
    "     in the monitored metric as an improvement.\n",
    "  -- If min_delta is set to a positive value, say min_delta=0.01, the model will only consider \n",
    "     a change greater than 0.01 in the monitored metric as an improvement, ignoring smaller variations.\n",
    "'''\n",
    "early_stopping_cb = tf.keras.callbacks.EarlyStopping(monitor='val_loss',\n",
    "                                  min_delta=0, \n",
    "                                  patience=10, \n",
    "                                  verbose=1, \n",
    "                                  mode='auto',\n",
    "                                  restore_best_weights=True)\n",
    "\n",
    "'''\n",
    "Train the model\n",
    "The History object is applied when a model is trained using the fit() method.\n",
    "It automatically tracks the performance of a model during training. \n",
    "It records key metrics such as loss and accuracy for each epoch, for both training and validation data.\n",
    "'''\n",
    "history = model.fit(X_train, # Input data\n",
    "                    y_train, # target data\n",
    "                    batch_size=size_of_mini_batch, # Number of samples per gradient update.\n",
    "                    epochs=no_of_epochs, # Number of epochs to train the model.\n",
    "                    validation_data=(X_valid, y_valid), \n",
    "                    callbacks=[early_stopping_cb], # Early stopping callback function\n",
    "                    #validation_split=0.10, # Fraction of the training data to be used as validation data. Float between 0 and 1. \n",
    "                    verbose=1 # Verbosity mode. 0 = silent, 1 = progress bar, 2 = one line per epoch. \n",
    "                   )"
   ]
  },
  {
   "cell_type": "markdown",
   "metadata": {},
   "source": [
    "## Learning Curve\n",
    "\n",
    "\n",
    "A learning curve is a graphical representation that shows the relationship between a model’s performance (often measured by metrics like accuracy, loss, or error) and the amount of training data or iterations (epochs).\n",
    "\n",
    "In the context of machine learning, the learning curve typically tracks two main aspects:\n",
    "\n",
    "- Training Performance: The model's performance on the training data over time.\n",
    "- Validation/Test Performance: The model's performance on unseen validation or test data over time.\n",
    "\n",
    "Key Insights from a Learning Curve:\n",
    "- Convergence: When both training and validation curves flatten, the model has likely converged.\n",
    "- Overfitting: If the training performance is good but the validation performance is poor, the model is overfitting.\n",
    "- Underfitting: If both the training and validation performance are poor, the model may be underfitting.\n",
    "\n",
    "\n",
    "\n",
    "\n",
    "## A Function For Generating Learning Curves (Accuracy & Loss)"
   ]
  },
  {
   "cell_type": "code",
   "execution_count": 7,
   "metadata": {},
   "outputs": [],
   "source": [
    "def plot_learning_curves(history, numOfEpochs, title):\n",
    "    plt.figure(figsize=(18,6))\n",
    "\n",
    "    plt.subplot(121)\n",
    "    plt.plot(range(1,numOfEpochs+1),history.history['val_accuracy'],label='validation', color=\"r\")\n",
    "    plt.plot(range(1,numOfEpochs+1),history.history['accuracy'],label='training', color=\"b\")\n",
    "    plt.legend(loc=0, fontsize=16)\n",
    "    plt.xlabel('Epoch', fontsize=16)\n",
    "    plt.ylabel('Accuracy', fontsize=16)\n",
    "    plt.xlim([1,numOfEpochs])\n",
    "    plt.grid(True)\n",
    "    plt.title(\"Model Accuracy: \"+title)\n",
    "    \n",
    "    plt.subplot(122)\n",
    "    plt.plot(range(1,numOfEpochs+1),history.history['val_loss'],label='validation', color=\"r\")\n",
    "    plt.plot(range(1,numOfEpochs+1),history.history['loss'],label='training', color=\"b\")\n",
    "    plt.legend(loc=0, fontsize=16)\n",
    "    plt.xlabel('Epoch', fontsize=16)\n",
    "    plt.ylabel('Loss', fontsize=16)\n",
    "    plt.xlim([1,numOfEpochs])\n",
    "    plt.grid(True)\n",
    "    plt.title(\"Model Loss: \"+title)\n",
    "    \n",
    "    plt.show() "
   ]
  },
  {
   "cell_type": "code",
   "execution_count": 8,
   "metadata": {},
   "outputs": [
    {
     "name": "stdout",
     "output_type": "stream",
     "text": [
      "Epochs:  19\n"
     ]
    },
    {
     "data": {
      "image/png": "[encoded data removed]",
      "text/plain": [
       "<Figure size 1800x600 with 2 Axes>"
      ]
     },
     "metadata": {},
     "output_type": "display_data"
    }
   ],
   "source": [
    "numOfEpochs = len(history.history['loss'])\n",
    "print(\"Epochs: \", numOfEpochs)\n",
    "\n",
    "plot_learning_curves(history, numOfEpochs, \"LNN-MNIST\")"
   ]
  },
  {
   "cell_type": "markdown",
   "metadata": {},
   "source": [
    "## Evaluate the LNN Model"
   ]
  },
  {
   "cell_type": "code",
   "execution_count": 9,
   "metadata": {},
   "outputs": [
    {
     "name": "stdout",
     "output_type": "stream",
     "text": [
      "Epochs:  19\n",
      "\n",
      "Train Data: Loss & Accuracy:  [0.24761585891246796, 0.9308258891105652]\n",
      "\n",
      "Test Data: Loss & Accuracy:  [0.29987266659736633, 0.9156428575515747]\n",
      "1400/1400 [==============================] - 0s 168us/step\n",
      "438/438 [==============================] - 0s 172us/step\n",
      "\n",
      "Train Accuracy:  0.9308258928571429\n",
      "\n",
      "Test Accuracy:  0.9156428571428571\n",
      "\n",
      "Test Confusion Matrix:\n",
      "[[1337    0    5    3    3   17   14    2    6    0]\n",
      " [   0 1547    9    4    2    8    1    2    7    0]\n",
      " [   4   20 1298   23   21    7   13   15   37    5]\n",
      " [   3    6   47 1276    0   48    2   11   27   15]\n",
      " [   1    3   12    2 1276    2   13    9    4   28]\n",
      " [  10    9   12   46   13 1087   17    9   23    5]\n",
      " [  12    5   18    1   17   19 1305    2    8    0]\n",
      " [   4   10   20    7   10    4    1 1347    4   51]\n",
      " [   6   46   15   36   12   55    9    2 1172   15]\n",
      " [   5    8    9   20   68   16    1   52    8 1174]]\n",
      "\n",
      "Test Classification Report:\n",
      "              precision    recall  f1-score   support\n",
      "\n",
      "           0       0.97      0.96      0.97      1387\n",
      "           1       0.94      0.98      0.96      1580\n",
      "           2       0.90      0.90      0.90      1443\n",
      "           3       0.90      0.89      0.89      1435\n",
      "           4       0.90      0.95      0.92      1350\n",
      "           5       0.86      0.88      0.87      1231\n",
      "           6       0.95      0.94      0.94      1387\n",
      "           7       0.93      0.92      0.93      1458\n",
      "           8       0.90      0.86      0.88      1368\n",
      "           9       0.91      0.86      0.88      1361\n",
      "\n",
      "    accuracy                           0.92     14000\n",
      "   macro avg       0.91      0.91      0.91     14000\n",
      "weighted avg       0.92      0.92      0.92     14000\n",
      "\n"
     ]
    }
   ],
   "source": [
    "print(\"Epochs: \", numOfEpochs)\n",
    "\n",
    "# Display train and test performance metrics (accuracy and loss)\n",
    "print(\"\\nTrain Data: Loss & Accuracy: \", model.evaluate(X_train, y_train, verbose=0))\n",
    "print(\"\\nTest Data: Loss & Accuracy: \", model.evaluate(X_test, y_test, verbose=0))\n",
    "\n",
    "\n",
    "'''\n",
    "Compute the train accuracy\n",
    "'''\n",
    "# The model.predict() method returns 10 probabilities per class for each instance (Dimension Nx10)\n",
    "y_train_predicted = model.predict(X_train)\n",
    "y_train_predicted = np.argmax(y_train_predicted, axis=1) # get the label/index of the highest probability class\n",
    "\n",
    "train_accuracy = np.mean(y_train_predicted == y_train)\n",
    "\n",
    "'''\n",
    "Compute the test accuracy\n",
    "'''\n",
    "# The model.predict() method returns 10 probabilities per class for each instance (Dimension Nx10)\n",
    "y_test_predicted = model.predict(X_test)\n",
    "y_test_predicted = np.argmax(y_test_predicted, axis=1) # get the label/index of the highest probability class\n",
    "test_accuracy = np.mean(y_test_predicted == y_test)\n",
    "\n",
    "\n",
    "\n",
    "print(\"\\nTrain Accuracy: \", train_accuracy)\n",
    "print(\"\\nTest Accuracy: \", test_accuracy)\n",
    "\n",
    "print(\"\\nTest Confusion Matrix:\")\n",
    "print(confusion_matrix(y_test, y_test_predicted))\n",
    "\n",
    "print(\"\\nTest Classification Report:\")\n",
    "print(classification_report(y_test, y_test_predicted))"
   ]
  }
 ],
 "metadata": {
  "kernelspec": {
   "display_name": "Python 3 (ipykernel)",
   "language": "python",
   "name": "python3"
  },
  "language_info": {
   "codemirror_mode": {
    "name": "ipython",
    "version": 3
   },
   "file_extension": ".py",
   "mimetype": "text/x-python",
   "name": "python",
   "nbconvert_exporter": "python",
   "pygments_lexer": "ipython3",
   "version": "3.11.5"
  }
 },
 "nbformat": 4,
 "nbformat_minor": 4
}
