{
 "cells": [
  {
   "cell_type": "markdown",
   "metadata": {},
   "source": [
    "# Linear Neural Network - Softmax Regression\n",
    "\n",
    "In this notebook, we cast the Softmax Regression technique for multiclass classification as a Linear Neural Network (LNN)."
   ]
  },
  {
   "cell_type": "code",
   "execution_count": 1,
   "metadata": {},
   "outputs": [],
   "source": [
    "import numpy as np\n",
    "import matplotlib.pyplot as plt\n",
    "\n",
    "\n",
    "from sklearn.datasets import load_iris\n",
    "\n",
    "from sklearn.metrics import confusion_matrix, accuracy_score, classification_report\n",
    "\n",
    "import tensorflow as tf\n",
    "from tensorflow import keras\n",
    "\n",
    "np.random.seed(43)"
   ]
  },
  {
   "cell_type": "markdown",
   "metadata": {},
   "source": [
    "## Decision Bounday: Using Various Thresholds for a Class Probability\n",
    "\n",
    "We define a function to show the decision boundaries at various thresholds of a class probability. Using the different estimates for a single class, we generate a contour plot. "
   ]
  },
  {
   "cell_type": "code",
   "execution_count": 2,
   "metadata": {},
   "outputs": [],
   "source": [
    "def decision_boundary_class_colored(clf, X):\n",
    "    \n",
    "    # Get the min and max value of feature x1\n",
    "    x1min, x1max = X[:,0].min() - 1, X[:, 0].max() + 1\n",
    "    \n",
    "    # Get the min and max value of feature x2\n",
    "    x2min, x2max = X[:,1].min() - 1, X[:, 1].max() + 1\n",
    "    \n",
    "    # Create the mesh grid\n",
    "    x1s = np.linspace(x1min, x1max, 100)\n",
    "    x2s = np.linspace(x2min, x2max, 100)\n",
    "    x1, x2 = np.meshgrid(x1s, x2s)\n",
    "    \n",
    "    \n",
    "    # Create pairs of new points from the grid\n",
    "    X_new = np.c_[x1.ravel(), x2.ravel()]\n",
    "    \n",
    "    \n",
    "    # Compute the class predictions for all new points        \n",
    "    y_pred = np.argmax(clf.predict(X_new), axis=-1).reshape(x1.shape)\n",
    "    \n",
    "   \n",
    "    # Generate the contourf plot for the predictions\n",
    "    plt.contourf(x1, x2, y_pred, cmap=plt.cm.summer, alpha=0.9)"
   ]
  },
  {
   "cell_type": "markdown",
   "metadata": {},
   "source": [
    "## Multiclass Dataset\n",
    "\n",
    "\n",
    "We will use the iris dataset, which is a multivariate data set.\n",
    "\n",
    "This is a famous dataset that contains the sepal and petal length and width of 150 iris flowers of three different species: Iris-Setosa, Iris-Versicolor, and Iris-Virginica\n",
    "\n",
    "There are 4 features:\n",
    "\n",
    "- sepal length (cm)\n",
    "- sepal width (cm)\n",
    "- petal length (cm)\n",
    "- petal width (cm)\n",
    "\n",
    "\n",
    "We will use two features (i.e., petal length, petal width)."
   ]
  },
  {
   "cell_type": "code",
   "execution_count": 3,
   "metadata": {},
   "outputs": [
    {
     "data": {
      "image/png": "[encoded data removed]",
      "text/plain": [
       "<Figure size 864x432 with 1 Axes>"
      ]
     },
     "metadata": {},
     "output_type": "display_data"
    }
   ],
   "source": [
    "iris = load_iris()\n",
    "\n",
    "X = iris[\"data\"][:, (2, 3)]  # petal length, petal width\n",
    "y = iris[\"target\"]\n",
    "\n",
    "label = y\n",
    "\n",
    "plt.figure(figsize=(12, 6))    \n",
    "plt.plot(X[y==2, 0], X[y==2, 1], \"g^\", label=\"Iris-Virginica\")\n",
    "plt.plot(X[y==1, 0], X[y==1, 1], \"bs\", label=\"Iris-Versicolor\")\n",
    "plt.plot(X[y==0, 0], X[y==0, 1], \"yo\", label=\"Iris-Setosa\")\n",
    "\n",
    "\n",
    "plt.xlabel(\"Petal length\", fontsize=14)\n",
    "plt.ylabel(\"Petal width\", fontsize=14)\n",
    "plt.legend(loc=\"upper left\", fontsize=14)\n",
    "plt.title(\"LNN: Multiclass Classification (Softmax Regression)\", fontsize=16)\n",
    "plt.xticks(())\n",
    "plt.yticks(())\n",
    "#plt.axis([-1.5, 1.5, -1.5, 1.5])\n",
    "\n",
    "plt.show()"
   ]
  },
  {
   "cell_type": "markdown",
   "metadata": {},
   "source": [
    "## Create a LNN Model\n",
    "\n",
    "Using the Keras Dense layer we create the LNN model for Softmax Regression. **In a Dense layer, each neuron is connected to all inputs/neurons of the previous layer**.\n",
    "\n",
    "The LNN model:\n",
    "- has 3 neurons because it's a 3-class classification problem.\n",
    "- uses the softmax activation function.\n",
    "\n",
    "At first, we need to specify the shape of the input using the Input layer. The Input layer is used to instantiate a Keras tensor, which is a TensorFlow symbolic tensor object.\n",
    "- We must set the \"shape\" parameter, which is a tuple (integers) idicating the dimension of the input vectors. In this demo, input is a 2D vector, that's why we simply put [2, ] in the tuple. In image classification problems, an image input will be represented as a matrix, in which case we will need to specify the size of the matrix. For example, for 28 x 28 image input matrix, \"shape\" tuple will be [28, 28]. Note that we don't need to include the batch size.\n",
    "\n",
    "Dense layer:\n",
    "- kernel_initializer: we initialize the weights (also known as kernel) with zero values. In logistic/softmax regression, initial zero weight values are ok. However, in nonlinear neural networks, such as in Multi-layer Perceptron (MLPs), we must use small random values to initialize the weights. For that we need to use sophisticated initializers, such as glorot or he.\n",
    "- activation: we use softmax activation"
   ]
  },
  {
   "cell_type": "code",
   "execution_count": 4,
   "metadata": {},
   "outputs": [
    {
     "name": "stdout",
     "output_type": "stream",
     "text": [
      "Model: \"LNN_Multiclass_Classifier\"\n",
      "_________________________________________________________________\n",
      "Layer (type)                 Output Shape              Param #   \n",
      "=================================================================\n",
      "dense (Dense)                (None, 3)                 9         \n",
      "=================================================================\n",
      "Total params: 9\n",
      "Trainable params: 9\n",
      "Non-trainable params: 0\n",
      "_________________________________________________________________\n",
      "CPU times: user 28.2 ms, sys: 5.75 ms, total: 33.9 ms\n",
      "Wall time: 40.3 ms\n"
     ]
    }
   ],
   "source": [
    "%%time\n",
    "\n",
    "'''\n",
    "Delete the TensorFlow graph before creating a new model, otherwise memory overflow will occur.\n",
    "'''\n",
    "keras.backend.clear_session()\n",
    "\n",
    "'''\n",
    "To reproduce the same result by the model in each iteration, we use fixed seeds for random number generation. \n",
    "'''\n",
    "np.random.seed(42)\n",
    "tf.random.set_seed(42)\n",
    "\n",
    "\n",
    "'''\n",
    "Create a Sequential model composed of a single stack of layers connected sequentially. \n",
    "'''\n",
    "model = keras.models.Sequential(name=\"LNN_Multiclass_Classifier\")\n",
    "model.add(keras.layers.Input(shape=[2,]))\n",
    "model.add(keras.layers.Dense(units=3, kernel_initializer=\"he_normal\", activation=\"softmax\"))\n",
    "\n",
    "\n",
    "model.summary()"
   ]
  },
  {
   "cell_type": "markdown",
   "metadata": {},
   "source": [
    "## Compile & Train the LNN Model"
   ]
  },
  {
   "cell_type": "code",
   "execution_count": 5,
   "metadata": {},
   "outputs": [
    {
     "name": "stdout",
     "output_type": "stream",
     "text": [
      "Epoch 1/50\n",
      "3/3 [==============================] - 0s 904us/step - loss: 2.5388 - accuracy: 0.3333\n",
      "Epoch 2/50\n",
      "3/3 [==============================] - 0s 970us/step - loss: 2.4032 - accuracy: 0.3333\n",
      "Epoch 3/50\n",
      "3/3 [==============================] - 0s 870us/step - loss: 2.2850 - accuracy: 0.3667\n",
      "Epoch 4/50\n",
      "3/3 [==============================] - 0s 1ms/step - loss: 2.1626 - accuracy: 0.3667\n",
      "Epoch 5/50\n",
      "3/3 [==============================] - 0s 787us/step - loss: 2.0438 - accuracy: 0.4467\n",
      "Epoch 6/50\n",
      "3/3 [==============================] - 0s 999us/step - loss: 1.9377 - accuracy: 0.5467\n",
      "Epoch 7/50\n",
      "3/3 [==============================] - 0s 870us/step - loss: 1.8340 - accuracy: 0.5600\n",
      "Epoch 8/50\n",
      "3/3 [==============================] - 0s 869us/step - loss: 1.7403 - accuracy: 0.5667\n",
      "Epoch 9/50\n",
      "3/3 [==============================] - 0s 956us/step - loss: 1.6429 - accuracy: 0.5733\n",
      "Epoch 10/50\n",
      "3/3 [==============================] - 0s 888us/step - loss: 1.5564 - accuracy: 0.5933\n",
      "Epoch 11/50\n",
      "3/3 [==============================] - 0s 1ms/step - loss: 1.4731 - accuracy: 0.6133\n",
      "Epoch 12/50\n",
      "3/3 [==============================] - 0s 975us/step - loss: 1.3882 - accuracy: 0.6133\n",
      "Epoch 13/50\n",
      "3/3 [==============================] - 0s 867us/step - loss: 1.3115 - accuracy: 0.6200\n",
      "Epoch 14/50\n",
      "3/3 [==============================] - 0s 1ms/step - loss: 1.2394 - accuracy: 0.6267\n",
      "Epoch 15/50\n",
      "3/3 [==============================] - 0s 1ms/step - loss: 1.1700 - accuracy: 0.6267\n",
      "Epoch 16/50\n",
      "3/3 [==============================] - 0s 913us/step - loss: 1.1151 - accuracy: 0.6267\n",
      "Epoch 17/50\n",
      "3/3 [==============================] - 0s 1ms/step - loss: 1.0692 - accuracy: 0.6333\n",
      "Epoch 18/50\n",
      "3/3 [==============================] - 0s 868us/step - loss: 1.0299 - accuracy: 0.6400\n",
      "Epoch 19/50\n",
      "3/3 [==============================] - 0s 1ms/step - loss: 0.9924 - accuracy: 0.6467\n",
      "Epoch 20/50\n",
      "3/3 [==============================] - 0s 861us/step - loss: 0.9648 - accuracy: 0.6467\n",
      "Epoch 21/50\n",
      "3/3 [==============================] - 0s 905us/step - loss: 0.9451 - accuracy: 0.6467\n",
      "Epoch 22/50\n",
      "3/3 [==============================] - 0s 1ms/step - loss: 0.9309 - accuracy: 0.6333\n",
      "Epoch 23/50\n",
      "3/3 [==============================] - 0s 937us/step - loss: 0.9193 - accuracy: 0.6200\n",
      "Epoch 24/50\n",
      "3/3 [==============================] - 0s 986us/step - loss: 0.9083 - accuracy: 0.6067\n",
      "Epoch 25/50\n",
      "3/3 [==============================] - 0s 1ms/step - loss: 0.8994 - accuracy: 0.5733\n",
      "Epoch 26/50\n",
      "3/3 [==============================] - 0s 943us/step - loss: 0.8931 - accuracy: 0.5667\n",
      "Epoch 27/50\n",
      "3/3 [==============================] - 0s 1ms/step - loss: 0.8889 - accuracy: 0.5600\n",
      "Epoch 28/50\n",
      "3/3 [==============================] - 0s 783us/step - loss: 0.8857 - accuracy: 0.5600\n",
      "Epoch 29/50\n",
      "3/3 [==============================] - 0s 1ms/step - loss: 0.8830 - accuracy: 0.5467\n",
      "Epoch 30/50\n",
      "3/3 [==============================] - 0s 2ms/step - loss: 0.8807 - accuracy: 0.5400\n",
      "Epoch 31/50\n",
      "3/3 [==============================] - 0s 896us/step - loss: 0.8781 - accuracy: 0.5333\n",
      "Epoch 32/50\n",
      "3/3 [==============================] - 0s 992us/step - loss: 0.8760 - accuracy: 0.5200\n",
      "Epoch 33/50\n",
      "3/3 [==============================] - 0s 1ms/step - loss: 0.8735 - accuracy: 0.5133\n",
      "Epoch 34/50\n",
      "3/3 [==============================] - 0s 1ms/step - loss: 0.8721 - accuracy: 0.5133\n",
      "Epoch 35/50\n",
      "3/3 [==============================] - 0s 1ms/step - loss: 0.8708 - accuracy: 0.5133\n",
      "Epoch 36/50\n",
      "3/3 [==============================] - 0s 993us/step - loss: 0.8700 - accuracy: 0.5133\n",
      "Epoch 37/50\n",
      "3/3 [==============================] - 0s 1ms/step - loss: 0.8683 - accuracy: 0.5000\n",
      "Epoch 38/50\n",
      "3/3 [==============================] - 0s 915us/step - loss: 0.8662 - accuracy: 0.5133\n",
      "Epoch 39/50\n",
      "3/3 [==============================] - 0s 1ms/step - loss: 0.8648 - accuracy: 0.5133\n",
      "Epoch 40/50\n",
      "3/3 [==============================] - 0s 854us/step - loss: 0.8637 - accuracy: 0.5133\n",
      "Epoch 41/50\n",
      "3/3 [==============================] - 0s 1ms/step - loss: 0.8623 - accuracy: 0.4733\n",
      "Epoch 42/50\n",
      "3/3 [==============================] - 0s 1ms/step - loss: 0.8609 - accuracy: 0.5133\n",
      "Epoch 43/50\n",
      "3/3 [==============================] - 0s 979us/step - loss: 0.8595 - accuracy: 0.5133\n",
      "Epoch 44/50\n",
      "3/3 [==============================] - 0s 1ms/step - loss: 0.8583 - accuracy: 0.5133\n",
      "Epoch 45/50\n",
      "3/3 [==============================] - 0s 1ms/step - loss: 0.8568 - accuracy: 0.5133\n",
      "Epoch 46/50\n",
      "3/3 [==============================] - 0s 1ms/step - loss: 0.8559 - accuracy: 0.5133\n",
      "Epoch 47/50\n",
      "3/3 [==============================] - 0s 917us/step - loss: 0.8545 - accuracy: 0.5133\n",
      "Epoch 48/50\n",
      "3/3 [==============================] - 0s 1ms/step - loss: 0.8537 - accuracy: 0.5267\n",
      "Epoch 49/50\n",
      "3/3 [==============================] - 0s 821us/step - loss: 0.8521 - accuracy: 0.5600\n",
      "Epoch 50/50\n",
      "3/3 [==============================] - 0s 1ms/step - loss: 0.8508 - accuracy: 0.5400\n"
     ]
    }
   ],
   "source": [
    "'''\n",
    "Define the optimizer\n",
    "'''\n",
    "optimizer = keras.optimizers.SGD(learning_rate=0.01)\n",
    "\n",
    "\n",
    "'''\n",
    "Compile the model\n",
    "'''\n",
    "model.compile(loss=\"sparse_categorical_crossentropy\",\n",
    "              optimizer=optimizer,\n",
    "              metrics=[\"accuracy\"])\n",
    "\n",
    "\n",
    "\n",
    "no_of_epochs = 50\n",
    "size_of_mini_batch = 64\n",
    "\n",
    "history = model.fit(X, y, \n",
    "                    batch_size=size_of_mini_batch, \n",
    "                    epochs=no_of_epochs,\n",
    "                    verbose=1)"
   ]
  },
  {
   "cell_type": "markdown",
   "metadata": {},
   "source": [
    "## Evaluate the LNN Model"
   ]
  },
  {
   "cell_type": "code",
   "execution_count": 6,
   "metadata": {},
   "outputs": [
    {
     "name": "stdout",
     "output_type": "stream",
     "text": [
      "Epochs:  50\n",
      "\n",
      "Test Data: Loss & Accuracy:  [0.8497329950332642, 0.5400000214576721]\n",
      "\n",
      "Accuracy:  0.54\n",
      "\n",
      "Confusion Matrix:\n",
      "[[31 19  0]\n",
      " [ 0  0 50]\n",
      " [ 0  0 50]]\n",
      "\n",
      "Classification Report:\n",
      "              precision    recall  f1-score   support\n",
      "\n",
      "           0       1.00      0.62      0.77        50\n",
      "           1       0.00      0.00      0.00        50\n",
      "           2       0.50      1.00      0.67        50\n",
      "\n",
      "    accuracy                           0.54       150\n",
      "   macro avg       0.50      0.54      0.48       150\n",
      "weighted avg       0.50      0.54      0.48       150\n",
      "\n"
     ]
    }
   ],
   "source": [
    "numOfEpochs = len(history.history['loss'])\n",
    "print(\"Epochs: \", numOfEpochs)\n",
    "\n",
    "print(\"\\nTest Data: Loss & Accuracy: \", model.evaluate(X, y, verbose=0))\n",
    "\n",
    "y_predicted = model.predict(X)\n",
    "y_predicted = np.argmax(y_predicted, axis=-1) # get the label/index of the highest probability class\n",
    "\n",
    "accuracy = np.mean(y_predicted == y)\n",
    "print(\"\\nAccuracy: \", accuracy)\n",
    "\n",
    "print(\"\\nConfusion Matrix:\")\n",
    "print(confusion_matrix(y, y_predicted))\n",
    "\n",
    "print(\"\\nClassification Report:\")\n",
    "print(classification_report(y, y_predicted))"
   ]
  },
  {
   "cell_type": "markdown",
   "metadata": {},
   "source": [
    "## Plot The Decision Boundary"
   ]
  },
  {
   "cell_type": "code",
   "execution_count": 7,
   "metadata": {},
   "outputs": [
    {
     "data": {
      "image/png": "[encoded data removed]",
      "text/plain": [
       "<Figure size 864x432 with 1 Axes>"
      ]
     },
     "metadata": {},
     "output_type": "display_data"
    }
   ],
   "source": [
    "plt.figure(figsize=(12, 6))    \n",
    "\n",
    "decision_boundary_class_colored(model, X)\n",
    "\n",
    "plt.plot(X[y==2, 0], X[y==2, 1], \"g^\", label=\"Iris-Virginica\")\n",
    "plt.plot(X[y==1, 0], X[y==1, 1], \"bs\", label=\"Iris-Versicolor\")\n",
    "plt.plot(X[y==0, 0], X[y==0, 1], \"yo\", label=\"Iris-Setosa\")\n",
    "\n",
    "\n",
    "plt.xlabel(\"Petal length\", fontsize=14)\n",
    "plt.ylabel(\"Petal width\", fontsize=14)\n",
    "plt.legend(loc=\"upper left\", fontsize=14)\n",
    "plt.title(\"LNN: Binary Classification (Logistic Regression)\", fontsize=16)\n",
    "plt.xticks(())\n",
    "plt.yticks(())\n",
    "#plt.axis([-1.5, 1.5, -1.5, 1.5])\n",
    "\n",
    "plt.show()"
   ]
  }
 ],
 "metadata": {
  "kernelspec": {
   "display_name": "Python 3",
   "language": "python",
   "name": "python3"
  },
  "language_info": {
   "codemirror_mode": {
    "name": "ipython",
    "version": 3
   },
   "file_extension": ".py",
   "mimetype": "text/x-python",
   "name": "python",
   "nbconvert_exporter": "python",
   "pygments_lexer": "ipython3",
   "version": "3.7.3"
  }
 },
 "nbformat": 4,
 "nbformat_minor": 2
}
