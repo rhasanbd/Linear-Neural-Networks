{
 "cells": [
  {
   "cell_type": "markdown",
   "metadata": {},
   "source": [
    "# Linear Neural Network - Softmax Regression\n",
    "\n",
    "In this notebook, we cast the Softmax Regression technique for multiclass classification as a Linear Neural Network (LNN) model. \n"
   ]
  },
  {
   "cell_type": "code",
   "execution_count": 1,
   "metadata": {},
   "outputs": [],
   "source": [
    "import numpy as np\n",
    "import matplotlib.pyplot as plt\n",
    "\n",
    "\n",
    "from sklearn.datasets import load_iris\n",
    "\n",
    "from sklearn.metrics import confusion_matrix, accuracy_score, classification_report\n",
    "\n",
    "import tensorflow as tf\n",
    "from tensorflow import keras\n",
    "\n",
    "np.random.seed(43)"
   ]
  },
  {
   "cell_type": "markdown",
   "metadata": {},
   "source": [
    "## Decision Bounday: Using Various Thresholds for a Class Probability\n",
    "\n",
    "We define a function to show the decision boundaries at various thresholds of a class probability. Using the different estimates for a single class, we generate a contour plot. "
   ]
  },
  {
   "cell_type": "code",
   "execution_count": 2,
   "metadata": {},
   "outputs": [],
   "source": [
    "def decision_boundary_class_colored(clf, X):\n",
    "    \n",
    "    # Get the min and max value of feature x1\n",
    "    x1min, x1max = X[:,0].min() - 1, X[:, 0].max() + 1\n",
    "    \n",
    "    # Get the min and max value of feature x2\n",
    "    x2min, x2max = X[:,1].min() - 1, X[:, 1].max() + 1\n",
    "    \n",
    "    # Create the mesh grid\n",
    "    x1s = np.linspace(x1min, x1max, 100)\n",
    "    x2s = np.linspace(x2min, x2max, 100)\n",
    "    x1, x2 = np.meshgrid(x1s, x2s)\n",
    "    \n",
    "    \n",
    "    # Create pairs of new points from the grid\n",
    "    X_new = np.c_[x1.ravel(), x2.ravel()]\n",
    "    \n",
    "    \n",
    "    # Compute the class predictions for all new points        \n",
    "    y_pred = np.argmax(clf.predict(X_new), axis=-1).reshape(x1.shape)\n",
    "    \n",
    "   \n",
    "    # Generate the contourf plot for the predictions\n",
    "    plt.contourf(x1, x2, y_pred, cmap=plt.cm.summer, alpha=0.9)"
   ]
  },
  {
   "cell_type": "markdown",
   "metadata": {},
   "source": [
    "## Multiclass Dataset\n",
    "\n",
    "\n",
    "We will use the iris dataset, which is a multivariate data set.\n",
    "\n",
    "This is a famous dataset that contains the sepal and petal length and width of 150 iris flowers of three different species: Iris-Setosa, Iris-Versicolor, and Iris-Virginica\n",
    "\n",
    "There are 4 features:\n",
    "\n",
    "- sepal length (cm)\n",
    "- sepal width (cm)\n",
    "- petal length (cm)\n",
    "- petal width (cm)\n",
    "\n",
    "\n",
    "We will use two features (i.e., petal length, petal width)."
   ]
  },
  {
   "cell_type": "code",
   "execution_count": 3,
   "metadata": {},
   "outputs": [
    {
     "data": {
      "image/png": "[encoded data removed]",
      "text/plain": [
       "<Figure size 864x432 with 1 Axes>"
      ]
     },
     "metadata": {},
     "output_type": "display_data"
    }
   ],
   "source": [
    "iris = load_iris()\n",
    "\n",
    "X = iris[\"data\"][:, (2, 3)]  # petal length, petal width\n",
    "y = iris[\"target\"]\n",
    "\n",
    "label = y\n",
    "\n",
    "plt.figure(figsize=(12, 6))    \n",
    "plt.plot(X[y==2, 0], X[y==2, 1], \"g^\", label=\"Iris-Virginica\")\n",
    "plt.plot(X[y==1, 0], X[y==1, 1], \"bs\", label=\"Iris-Versicolor\")\n",
    "plt.plot(X[y==0, 0], X[y==0, 1], \"yo\", label=\"Iris-Setosa\")\n",
    "\n",
    "plt.xlabel(\"Petal length\", fontsize=14)\n",
    "plt.ylabel(\"Petal width\", fontsize=14)\n",
    "plt.legend(loc=\"upper left\", fontsize=14)\n",
    "plt.title(\"LNN: Multiclass Classification (Softmax Regression)\", fontsize=16)\n",
    "plt.xticks(())\n",
    "plt.yticks(())\n",
    "\n",
    "plt.show()"
   ]
  },
  {
   "cell_type": "markdown",
   "metadata": {},
   "source": [
    "## Create a LNN Model\n",
    "\n",
    "Using the Keras Dense layer we create a LNN model for Softmax Regression. **In a Dense layer, each neuron is connected to all inputs/neurons of the previous layer**.\n",
    "\n",
    "The LNN model:\n",
    "- has 3 neurons because it's a 3-class classification problem.\n",
    "- uses the softmax activation function.\n",
    "\n",
    "At first, we need to specify the shape of the input using the Input layer. The Input layer is used to instantiate a Keras tensor, which is a TensorFlow symbolic tensor object.\n",
    "- We must set the \"shape\" parameter, which is a tuple (integers) idicating the dimension of the input vectors. In this demo, input is a 2D vector, that's why we simply put [2, ] in the tuple. In image classification problems, an image input will be represented as a matrix, in which case we will need to specify the size of the matrix. For example, for 28 x 28 image input matrix, \"shape\" tuple will be [28, 28]. Note that we don't need to include the batch size.\n",
    "\n",
    "Dense layer:\n",
    "- kernel_initializer: we initialize the weights (also known as kernel) with zero values. In logistic/softmax regression, initial zero weight values are ok. However, in nonlinear neural networks, such as in Multi-layer Perceptron (MLPs), we must use small random values to initialize the weights. For that we need to use sophisticated initializers, such as glorot or he.\n",
    "- activation: we use softmax activation"
   ]
  },
  {
   "cell_type": "code",
   "execution_count": 4,
   "metadata": {},
   "outputs": [
    {
     "name": "stdout",
     "output_type": "stream",
     "text": [
      "Model: \"LNN_Multiclass_Classifier\"\n",
      "_________________________________________________________________\n",
      "Layer (type)                 Output Shape              Param #   \n",
      "=================================================================\n",
      "dense (Dense)                (None, 3)                 9         \n",
      "=================================================================\n",
      "Total params: 9\n",
      "Trainable params: 9\n",
      "Non-trainable params: 0\n",
      "_________________________________________________________________\n",
      "CPU times: user 26.8 ms, sys: 5.35 ms, total: 32.1 ms\n",
      "Wall time: 38 ms\n"
     ]
    }
   ],
   "source": [
    "%%time\n",
    "\n",
    "'''\n",
    "Delete the TensorFlow graph before creating a new model, otherwise memory overflow will occur.\n",
    "'''\n",
    "keras.backend.clear_session()\n",
    "\n",
    "'''\n",
    "To reproduce the same result by the model in each iteration, we use fixed seeds for random number generation. \n",
    "'''\n",
    "np.random.seed(42)\n",
    "tf.random.set_seed(42)\n",
    "\n",
    "\n",
    "'''\n",
    "Create a Sequential model composed of a single stack of layers connected sequentially. \n",
    "'''\n",
    "model = keras.models.Sequential(name=\"LNN_Multiclass_Classifier\")\n",
    "model.add(keras.layers.Input(shape=[2,]))\n",
    "model.add(keras.layers.Dense(units=3, kernel_initializer=\"zeros\", activation=\"softmax\"))\n",
    "\n",
    "model.summary()"
   ]
  },
  {
   "cell_type": "markdown",
   "metadata": {},
   "source": [
    "## Compile & Train the LNN Model\n",
    "\n",
    "A Keras model automatically uses the **Backpropagation** algorithm to train an ANN. However, we need to specify an optimization algorithm. \n",
    "\n",
    "There are various advanced optimizers. For the LNN we will use the **Stochastic Gradient Descent (SGD)** optimizer. It requires us to set a suitable learning rate.  \n",
    "\n",
    "We will use the mini-batch SGD. Thus we need to specify the batch size as well as the epochs."
   ]
  },
  {
   "cell_type": "code",
   "execution_count": 5,
   "metadata": {},
   "outputs": [
    {
     "name": "stdout",
     "output_type": "stream",
     "text": [
      "Epoch 1/50\n",
      "3/3 [==============================] - 0s 914us/step - loss: 1.1149 - accuracy: 0.2800\n",
      "Epoch 2/50\n",
      "3/3 [==============================] - 0s 795us/step - loss: 1.1647 - accuracy: 0.3533\n",
      "Epoch 3/50\n",
      "3/3 [==============================] - 0s 795us/step - loss: 0.9388 - accuracy: 0.3800\n",
      "Epoch 4/50\n",
      "3/3 [==============================] - 0s 952us/step - loss: 0.9482 - accuracy: 0.4533\n",
      "Epoch 5/50\n",
      "3/3 [==============================] - 0s 803us/step - loss: 1.1131 - accuracy: 0.4533\n",
      "Epoch 6/50\n",
      "3/3 [==============================] - 0s 911us/step - loss: 0.8773 - accuracy: 0.7133\n",
      "Epoch 7/50\n",
      "3/3 [==============================] - 0s 1ms/step - loss: 0.7860 - accuracy: 0.6867\n",
      "Epoch 8/50\n",
      "3/3 [==============================] - 0s 1ms/step - loss: 0.7325 - accuracy: 0.7867\n",
      "Epoch 9/50\n",
      "3/3 [==============================] - 0s 992us/step - loss: 0.7663 - accuracy: 0.6800\n",
      "Epoch 10/50\n",
      "3/3 [==============================] - 0s 1ms/step - loss: 1.0401 - accuracy: 0.5800\n",
      "Epoch 11/50\n",
      "3/3 [==============================] - 0s 936us/step - loss: 0.9500 - accuracy: 0.6733\n",
      "Epoch 12/50\n",
      "3/3 [==============================] - 0s 1ms/step - loss: 1.2792 - accuracy: 0.6200\n",
      "Epoch 13/50\n",
      "3/3 [==============================] - 0s 878us/step - loss: 0.6694 - accuracy: 0.6867\n",
      "Epoch 14/50\n",
      "3/3 [==============================] - 0s 900us/step - loss: 0.8650 - accuracy: 0.6400\n",
      "Epoch 15/50\n",
      "3/3 [==============================] - 0s 1ms/step - loss: 1.0199 - accuracy: 0.6533\n",
      "Epoch 16/50\n",
      "3/3 [==============================] - 0s 1ms/step - loss: 0.9426 - accuracy: 0.6667\n",
      "Epoch 17/50\n",
      "3/3 [==============================] - 0s 1ms/step - loss: 0.7042 - accuracy: 0.7067\n",
      "Epoch 18/50\n",
      "3/3 [==============================] - 0s 937us/step - loss: 0.9625 - accuracy: 0.6733\n",
      "Epoch 19/50\n",
      "3/3 [==============================] - 0s 977us/step - loss: 0.9669 - accuracy: 0.6867\n",
      "Epoch 20/50\n",
      "3/3 [==============================] - 0s 1ms/step - loss: 0.6181 - accuracy: 0.6800\n",
      "Epoch 21/50\n",
      "3/3 [==============================] - 0s 847us/step - loss: 0.8954 - accuracy: 0.6133\n",
      "Epoch 22/50\n",
      "3/3 [==============================] - 0s 972us/step - loss: 1.0344 - accuracy: 0.6733\n",
      "Epoch 23/50\n",
      "3/3 [==============================] - 0s 1ms/step - loss: 0.5934 - accuracy: 0.7200\n",
      "Epoch 24/50\n",
      "3/3 [==============================] - 0s 819us/step - loss: 0.7721 - accuracy: 0.6600\n",
      "Epoch 25/50\n",
      "3/3 [==============================] - 0s 1ms/step - loss: 1.0329 - accuracy: 0.6200\n",
      "Epoch 26/50\n",
      "3/3 [==============================] - 0s 853us/step - loss: 0.7186 - accuracy: 0.6733\n",
      "Epoch 27/50\n",
      "3/3 [==============================] - 0s 1ms/step - loss: 0.5363 - accuracy: 0.7600\n",
      "Epoch 28/50\n",
      "3/3 [==============================] - 0s 1ms/step - loss: 0.6265 - accuracy: 0.6600\n",
      "Epoch 29/50\n",
      "3/3 [==============================] - 0s 854us/step - loss: 0.9012 - accuracy: 0.7667\n",
      "Epoch 30/50\n",
      "3/3 [==============================] - 0s 947us/step - loss: 0.5124 - accuracy: 0.7467\n",
      "Epoch 31/50\n",
      "3/3 [==============================] - 0s 984us/step - loss: 0.4684 - accuracy: 0.8400\n",
      "Epoch 32/50\n",
      "3/3 [==============================] - 0s 781us/step - loss: 0.4783 - accuracy: 0.8600\n",
      "Epoch 33/50\n",
      "3/3 [==============================] - 0s 1ms/step - loss: 0.5100 - accuracy: 0.7600\n",
      "Epoch 34/50\n",
      "3/3 [==============================] - 0s 1ms/step - loss: 0.5640 - accuracy: 0.6733\n",
      "Epoch 35/50\n",
      "3/3 [==============================] - 0s 1ms/step - loss: 0.4584 - accuracy: 0.9067\n",
      "Epoch 36/50\n",
      "3/3 [==============================] - 0s 1ms/step - loss: 0.4897 - accuracy: 0.7667\n",
      "Epoch 37/50\n",
      "3/3 [==============================] - 0s 785us/step - loss: 0.7280 - accuracy: 0.6467\n",
      "Epoch 38/50\n",
      "3/3 [==============================] - 0s 1ms/step - loss: 0.6640 - accuracy: 0.7600\n",
      "Epoch 39/50\n",
      "3/3 [==============================] - 0s 1ms/step - loss: 0.4351 - accuracy: 0.9000\n",
      "Epoch 40/50\n",
      "3/3 [==============================] - 0s 864us/step - loss: 0.4896 - accuracy: 0.7467\n",
      "Epoch 41/50\n",
      "3/3 [==============================] - 0s 1ms/step - loss: 0.4233 - accuracy: 0.9333\n",
      "Epoch 42/50\n",
      "3/3 [==============================] - 0s 913us/step - loss: 0.4197 - accuracy: 0.8933\n",
      "Epoch 43/50\n",
      "3/3 [==============================] - 0s 826us/step - loss: 0.4181 - accuracy: 0.9267\n",
      "Epoch 44/50\n",
      "3/3 [==============================] - 0s 1ms/step - loss: 0.4320 - accuracy: 0.8733\n",
      "Epoch 45/50\n",
      "3/3 [==============================] - 0s 927us/step - loss: 0.6228 - accuracy: 0.6800\n",
      "Epoch 46/50\n",
      "3/3 [==============================] - 0s 1ms/step - loss: 0.5000 - accuracy: 0.7667\n",
      "Epoch 47/50\n",
      "3/3 [==============================] - 0s 941us/step - loss: 0.4873 - accuracy: 0.7400\n",
      "Epoch 48/50\n",
      "3/3 [==============================] - 0s 1ms/step - loss: 0.7051 - accuracy: 0.6467\n",
      "Epoch 49/50\n",
      "3/3 [==============================] - 0s 1ms/step - loss: 0.5440 - accuracy: 0.7000\n",
      "Epoch 50/50\n",
      "3/3 [==============================] - 0s 848us/step - loss: 0.6430 - accuracy: 0.8000\n"
     ]
    }
   ],
   "source": [
    "'''\n",
    "Define the optimizer\n",
    "'''\n",
    "optimizer = keras.optimizers.SGD(learning_rate=0.3)\n",
    "\n",
    "'''\n",
    "Compile the model\n",
    "'''\n",
    "model.compile(loss=\"sparse_categorical_crossentropy\",\n",
    "              optimizer=optimizer,\n",
    "              metrics=[\"accuracy\"])\n",
    "\n",
    "'''\n",
    "Set the epochs and batch size\n",
    "'''\n",
    "no_of_epochs = 50\n",
    "size_of_mini_batch = 64\n",
    "\n",
    "'''\n",
    "Train the model\n",
    "'''\n",
    "history = model.fit(X, y, \n",
    "                    batch_size=size_of_mini_batch, \n",
    "                    epochs=no_of_epochs,\n",
    "                    verbose=1)"
   ]
  },
  {
   "cell_type": "markdown",
   "metadata": {},
   "source": [
    "## Evaluate the LNN Model"
   ]
  },
  {
   "cell_type": "code",
   "execution_count": 6,
   "metadata": {},
   "outputs": [
    {
     "name": "stdout",
     "output_type": "stream",
     "text": [
      "Epochs:  50\n",
      "\n",
      "Test Data: Loss & Accuracy:  [0.4187164902687073, 0.8733333349227905]\n",
      "\n",
      "Accuracy:  0.8733333333333333\n",
      "\n",
      "Confusion Matrix:\n",
      "[[50  0  0]\n",
      " [ 0 49  1]\n",
      " [ 0 18 32]]\n",
      "\n",
      "Classification Report:\n",
      "              precision    recall  f1-score   support\n",
      "\n",
      "           0       1.00      1.00      1.00        50\n",
      "           1       0.73      0.98      0.84        50\n",
      "           2       0.97      0.64      0.77        50\n",
      "\n",
      "    accuracy                           0.87       150\n",
      "   macro avg       0.90      0.87      0.87       150\n",
      "weighted avg       0.90      0.87      0.87       150\n",
      "\n"
     ]
    }
   ],
   "source": [
    "numOfEpochs = len(history.history['loss'])\n",
    "print(\"Epochs: \", numOfEpochs)\n",
    "\n",
    "print(\"\\nTest Data: Loss & Accuracy: \", model.evaluate(X, y, verbose=0))\n",
    "\n",
    "y_predicted = model.predict(X)\n",
    "y_predicted = np.argmax(y_predicted, axis=-1) # get the label/index of the highest probability class\n",
    "\n",
    "accuracy = np.mean(y_predicted == y)\n",
    "print(\"\\nAccuracy: \", accuracy)\n",
    "\n",
    "print(\"\\nConfusion Matrix:\")\n",
    "print(confusion_matrix(y, y_predicted))\n",
    "\n",
    "print(\"\\nClassification Report:\")\n",
    "print(classification_report(y, y_predicted))"
   ]
  },
  {
   "cell_type": "markdown",
   "metadata": {},
   "source": [
    "## Plot The Decision Boundary"
   ]
  },
  {
   "cell_type": "code",
   "execution_count": 7,
   "metadata": {},
   "outputs": [
    {
     "data": {
      "image/png": "[encoded data removed]",
      "text/plain": [
       "<Figure size 864x432 with 1 Axes>"
      ]
     },
     "metadata": {},
     "output_type": "display_data"
    }
   ],
   "source": [
    "plt.figure(figsize=(12, 6))    \n",
    "\n",
    "decision_boundary_class_colored(model, X)\n",
    "\n",
    "plt.plot(X[y==2, 0], X[y==2, 1], \"g^\", label=\"Iris-Virginica\")\n",
    "plt.plot(X[y==1, 0], X[y==1, 1], \"bs\", label=\"Iris-Versicolor\")\n",
    "plt.plot(X[y==0, 0], X[y==0, 1], \"yo\", label=\"Iris-Setosa\")\n",
    "\n",
    "plt.xlabel(\"Petal length\", fontsize=14)\n",
    "plt.ylabel(\"Petal width\", fontsize=14)\n",
    "plt.legend(loc=\"upper left\", fontsize=14)\n",
    "plt.title(\"LNN: Binary Classification (Logistic Regression)\", fontsize=16)\n",
    "plt.xticks(())\n",
    "plt.yticks(())\n",
    "plt.show()"
   ]
  }
 ],
 "metadata": {
  "kernelspec": {
   "display_name": "Python 3",
   "language": "python",
   "name": "python3"
  },
  "language_info": {
   "codemirror_mode": {
    "name": "ipython",
    "version": 3
   },
   "file_extension": ".py",
   "mimetype": "text/x-python",
   "name": "python",
   "nbconvert_exporter": "python",
   "pygments_lexer": "ipython3",
   "version": "3.7.3"
  }
 },
 "nbformat": 4,
 "nbformat_minor": 2
}
