{
 "cells": [
  {
   "cell_type": "markdown",
   "metadata": {},
   "source": [
    "# Linear Neural Network - Logistic Regression\n",
    "\n",
    "In this notebook, we cast the Logistic Regression technique for Binary classification as a Linear Neural Network (LNN).\n",
    "\n",
    "Using the LNN model we perform binary classification on a **linearly separable** data. Then, we visualize the decision boundary."
   ]
  },
  {
   "cell_type": "code",
   "execution_count": 1,
   "metadata": {},
   "outputs": [],
   "source": [
    "import numpy as np\n",
    "import matplotlib.pyplot as plt\n",
    "\n",
    "from sklearn.metrics import confusion_matrix, accuracy_score, classification_report\n",
    "\n",
    "import tensorflow as tf\n",
    "from tensorflow import keras\n",
    "\n",
    "np.random.seed(43)"
   ]
  },
  {
   "cell_type": "markdown",
   "metadata": {},
   "source": [
    "## Decision Bounday: Using Various Thresholds for a Class Probability\n",
    "\n",
    "We define a function to show the decision boundaries at various thresholds of a class probability. Using the different estimates for a single class, we generate a contour plot. "
   ]
  },
  {
   "cell_type": "code",
   "execution_count": 2,
   "metadata": {},
   "outputs": [],
   "source": [
    "def decision_boundary_class_colored(clf, X):\n",
    "    \n",
    "    # Get the min and max value of feature x1\n",
    "    x1min, x1max = X[:,0].min() - 1, X[:, 0].max() + 1\n",
    "    \n",
    "    # Get the min and max value of feature x2\n",
    "    x2min, x2max = X[:,1].min() - 1, X[:, 1].max() + 1\n",
    "    \n",
    "    # Create the mesh grid\n",
    "    x1s = np.linspace(x1min, x1max, 100)\n",
    "    x2s = np.linspace(x2min, x2max, 100)\n",
    "    x1, x2 = np.meshgrid(x1s, x2s)\n",
    "    \n",
    "    \n",
    "    # Create pairs of new points from the grid\n",
    "    X_new = np.c_[x1.ravel(), x2.ravel()]\n",
    "    \n",
    "    \n",
    "    # Compute the class predictions for all new points    \n",
    "    y_pred_proba = clf.predict(X_new).reshape(x1.shape)\n",
    "\n",
    "    y_pred = y_pred_proba\n",
    "            \n",
    "    for i in range(y_pred_proba.shape[0]):\n",
    "        for j in range(y_pred_proba.shape[1]):\n",
    "            if(y_pred_proba[i][j] >= 0.5):\n",
    "                y_pred[i][j] = 1\n",
    "            else:\n",
    "                y_pred[i][j] = 0\n",
    "        \n",
    "    # Generate the contourf plot for the predictions\n",
    "    plt.contourf(x1, x2, y_pred, cmap=plt.cm.summer, alpha=0.9)"
   ]
  },
  {
   "cell_type": "markdown",
   "metadata": {},
   "source": [
    "## Synthetic Dataset: Linearly Separable\n"
   ]
  },
  {
   "cell_type": "code",
   "execution_count": 3,
   "metadata": {},
   "outputs": [
    {
     "data": {
      "image/png": "[encoded data removed]",
      "text/plain": [
       "<Figure size 1152x576 with 1 Axes>"
      ]
     },
     "metadata": {},
     "output_type": "display_data"
    }
   ],
   "source": [
    "m0 = 200  # no. of training examples for class 0\n",
    "\n",
    "\n",
    "# Generate class 0 data points randomly from a uniform distribution\n",
    "#    Here a & b are 2 dimensions for each data (feature) point\n",
    "a = np.random.rand(m0,1)\n",
    "b = 4 + a + np.random.rand(m0,1)\n",
    "\n",
    "\n",
    "# Concatenate the 2 dimensions of each feature to create the data matrix for class 0 \n",
    "X0 = np.concatenate((a, b), axis=1)\n",
    "\n",
    "# Create the target vector for class 0 (target is coded with zeros)\n",
    "X0_target = np.zeros((m0,), dtype=np.int).reshape(-1, 1)\n",
    "\n",
    "\n",
    "m1 = 200  # no. of training examples for class 1\n",
    "\n",
    "\n",
    "# Generate class 1 data points randomly from a uniform distribution\n",
    "#    Here c & d are 2 dimensions for each data (feature) point\n",
    "c = np.random.rand(m1,1)\n",
    "d = 6 + c + np.random.rand(m1,1)\n",
    "\n",
    "# Concatenate the 2 dimensions of each feature to create the data matrix for class 1\n",
    "X1 = np.concatenate((c, d), axis=1)\n",
    "\n",
    "\n",
    "# Create the target vector for class 1 (target is coded with ones)\n",
    "X1_target = np.ones((m1,), dtype=np.int).reshape(-1, 1)\n",
    "\n",
    "\n",
    "\n",
    "# All training examples for class 0 and 1\n",
    "X = np.append(X0, X1, axis=0)\n",
    "\n",
    "# All target values for class 0 & 1\n",
    "y = np.concatenate((X0_target, X1_target), axis=0)\n",
    "\n",
    "\n",
    "# Create a 1D row vector ofthe target with float values\n",
    "y = y.ravel()*1.0\n",
    "\n",
    "\n",
    "\n",
    "# Draw a scatter plot\n",
    "plt.figure(figsize=(16,8))\n",
    "plt.plot(X[:, 0][y==1], X[:, 1][y==1], \"bo\", label=\"Class 0\")\n",
    "plt.plot(X[:, 0][y==0], X[:, 1][y==0], \"ro\", label=\"Class 1\")\n",
    "plt.title(\"Linearly Separable Data\", fontsize=18)\n",
    "plt.legend(loc=2)\n",
    "plt.xlabel(\"$x_1$\", fontsize=12)\n",
    "plt.ylabel(\"$x_2$\", rotation=90, fontsize=12)\n",
    "plt.xticks(())\n",
    "plt.yticks(())\n",
    "plt.show()"
   ]
  },
  {
   "cell_type": "markdown",
   "metadata": {},
   "source": [
    "## Create a LNN Model\n",
    "\n",
    "Using the Keras Dense layer we create the LNN model for Logistic Regression. **In a Dense layer, each neuron is connected to all input/neurons of the previous layer**.\n",
    "\n",
    "The LNN model:\n",
    "- has only one neuron.\n",
    "- uses the logistic sigmoid function.\n",
    "\n",
    "At first, we need to specify the shape of the input."
   ]
  },
  {
   "cell_type": "code",
   "execution_count": 4,
   "metadata": {},
   "outputs": [
    {
     "name": "stdout",
     "output_type": "stream",
     "text": [
      "Model: \"LNN_Binary_Classifier\"\n",
      "_________________________________________________________________\n",
      "Layer (type)                 Output Shape              Param #   \n",
      "=================================================================\n",
      "dense (Dense)                (None, 1)                 3         \n",
      "=================================================================\n",
      "Total params: 3\n",
      "Trainable params: 3\n",
      "Non-trainable params: 0\n",
      "_________________________________________________________________\n",
      "CPU times: user 110 ms, sys: 6.73 ms, total: 117 ms\n",
      "Wall time: 123 ms\n"
     ]
    }
   ],
   "source": [
    "%%time\n",
    "\n",
    "'''\n",
    "Delete the TensorFlow graph before creating a new model, otherwise memory overflow will occur.\n",
    "'''\n",
    "keras.backend.clear_session()\n",
    "\n",
    "'''\n",
    "To reproduce the same result by the model in each iteration, we use fixed seeds for random number generation. \n",
    "'''\n",
    "np.random.seed(42)\n",
    "tf.random.set_seed(42)\n",
    "\n",
    "\n",
    "'''\n",
    "Create a Sequential model composed of a single stack of layers connected sequentially. \n",
    "'''\n",
    "model = keras.models.Sequential(name=\"LNN_Binary_Classifier\")\n",
    "model.add(keras.layers.Input(shape=[2, ]))\n",
    "model.add(keras.layers.Dense(units=1, kernel_initializer=\"he_normal\", activation=\"sigmoid\", use_bias=True))\n",
    "\n",
    "\n",
    "model.summary()"
   ]
  },
  {
   "cell_type": "markdown",
   "metadata": {},
   "source": [
    "## Compile & Train the LNN Model"
   ]
  },
  {
   "cell_type": "code",
   "execution_count": 5,
   "metadata": {},
   "outputs": [
    {
     "name": "stdout",
     "output_type": "stream",
     "text": [
      "Epoch 1/50\n",
      "7/7 [==============================] - 0s 890us/step - loss: 2.4193 - accuracy: 0.4850\n",
      "Epoch 2/50\n",
      "7/7 [==============================] - 0s 826us/step - loss: 1.5931 - accuracy: 0.5500\n",
      "Epoch 3/50\n",
      "7/7 [==============================] - 0s 758us/step - loss: 1.7907 - accuracy: 0.4750\n",
      "Epoch 4/50\n",
      "7/7 [==============================] - 0s 743us/step - loss: 1.9581 - accuracy: 0.4950\n",
      "Epoch 5/50\n",
      "7/7 [==============================] - 0s 821us/step - loss: 1.7286 - accuracy: 0.5050\n",
      "Epoch 6/50\n",
      "7/7 [==============================] - 0s 869us/step - loss: 1.8348 - accuracy: 0.5100\n",
      "Epoch 7/50\n",
      "7/7 [==============================] - 0s 762us/step - loss: 1.5345 - accuracy: 0.5300\n",
      "Epoch 8/50\n",
      "7/7 [==============================] - 0s 788us/step - loss: 1.4583 - accuracy: 0.5000\n",
      "Epoch 9/50\n",
      "7/7 [==============================] - 0s 880us/step - loss: 1.5288 - accuracy: 0.5200\n",
      "Epoch 10/50\n",
      "7/7 [==============================] - 0s 814us/step - loss: 1.8291 - accuracy: 0.4700\n",
      "Epoch 11/50\n",
      "7/7 [==============================] - 0s 762us/step - loss: 1.4072 - accuracy: 0.6000\n",
      "Epoch 12/50\n",
      "7/7 [==============================] - 0s 808us/step - loss: 1.7440 - accuracy: 0.4900\n",
      "Epoch 13/50\n",
      "7/7 [==============================] - 0s 830us/step - loss: 1.4847 - accuracy: 0.5700\n",
      "Epoch 14/50\n",
      "7/7 [==============================] - 0s 804us/step - loss: 1.5463 - accuracy: 0.5400\n",
      "Epoch 15/50\n",
      "7/7 [==============================] - 0s 817us/step - loss: 1.6346 - accuracy: 0.5150\n",
      "Epoch 16/50\n",
      "7/7 [==============================] - 0s 794us/step - loss: 1.4469 - accuracy: 0.6650\n",
      "Epoch 17/50\n",
      "7/7 [==============================] - 0s 779us/step - loss: 1.2466 - accuracy: 0.5525\n",
      "Epoch 18/50\n",
      "7/7 [==============================] - 0s 802us/step - loss: 1.3209 - accuracy: 0.5200\n",
      "Epoch 19/50\n",
      "7/7 [==============================] - 0s 847us/step - loss: 1.4675 - accuracy: 0.5275\n",
      "Epoch 20/50\n",
      "7/7 [==============================] - 0s 895us/step - loss: 1.2627 - accuracy: 0.6700\n",
      "Epoch 21/50\n",
      "7/7 [==============================] - 0s 777us/step - loss: 1.5196 - accuracy: 0.5500\n",
      "Epoch 22/50\n",
      "7/7 [==============================] - 0s 773us/step - loss: 0.9031 - accuracy: 0.5975\n",
      "Epoch 23/50\n",
      "7/7 [==============================] - 0s 797us/step - loss: 1.4185 - accuracy: 0.5150\n",
      "Epoch 24/50\n",
      "7/7 [==============================] - 0s 845us/step - loss: 1.3246 - accuracy: 0.5125\n",
      "Epoch 25/50\n",
      "7/7 [==============================] - 0s 750us/step - loss: 1.2498 - accuracy: 0.6050\n",
      "Epoch 26/50\n",
      "7/7 [==============================] - 0s 855us/step - loss: 0.8586 - accuracy: 0.6275\n",
      "Epoch 27/50\n",
      "7/7 [==============================] - 0s 748us/step - loss: 1.5958 - accuracy: 0.5000\n",
      "Epoch 28/50\n",
      "7/7 [==============================] - 0s 783us/step - loss: 1.0466 - accuracy: 0.6150\n",
      "Epoch 29/50\n",
      "7/7 [==============================] - 0s 770us/step - loss: 0.9970 - accuracy: 0.5325\n",
      "Epoch 30/50\n",
      "7/7 [==============================] - 0s 779us/step - loss: 1.0578 - accuracy: 0.6575\n",
      "Epoch 31/50\n",
      "7/7 [==============================] - 0s 779us/step - loss: 1.1698 - accuracy: 0.5275\n",
      "Epoch 32/50\n",
      "7/7 [==============================] - 0s 806us/step - loss: 0.8678 - accuracy: 0.6650\n",
      "Epoch 33/50\n",
      "7/7 [==============================] - 0s 765us/step - loss: 1.0941 - accuracy: 0.5600\n",
      "Epoch 34/50\n",
      "7/7 [==============================] - 0s 833us/step - loss: 0.7541 - accuracy: 0.7325\n",
      "Epoch 35/50\n",
      "7/7 [==============================] - 0s 860us/step - loss: 0.9359 - accuracy: 0.5600\n",
      "Epoch 36/50\n",
      "7/7 [==============================] - 0s 781us/step - loss: 0.8577 - accuracy: 0.5750\n",
      "Epoch 37/50\n",
      "7/7 [==============================] - 0s 748us/step - loss: 0.9370 - accuracy: 0.6450\n",
      "Epoch 38/50\n",
      "7/7 [==============================] - 0s 868us/step - loss: 0.8397 - accuracy: 0.5800\n",
      "Epoch 39/50\n",
      "7/7 [==============================] - 0s 892us/step - loss: 0.7213 - accuracy: 0.6600\n",
      "Epoch 40/50\n",
      "7/7 [==============================] - 0s 812us/step - loss: 0.1811 - accuracy: 0.9850\n",
      "Epoch 41/50\n",
      "7/7 [==============================] - 0s 806us/step - loss: 0.5619 - accuracy: 0.7050\n",
      "Epoch 42/50\n",
      "7/7 [==============================] - 0s 783us/step - loss: 0.3362 - accuracy: 0.8250\n",
      "Epoch 43/50\n",
      "7/7 [==============================] - 0s 779us/step - loss: 0.7959 - accuracy: 0.6100\n",
      "Epoch 44/50\n",
      "7/7 [==============================] - 0s 768us/step - loss: 0.2996 - accuracy: 0.8550\n",
      "Epoch 45/50\n",
      "7/7 [==============================] - 0s 754us/step - loss: 0.3695 - accuracy: 0.8025\n",
      "Epoch 46/50\n",
      "7/7 [==============================] - 0s 738us/step - loss: 0.2447 - accuracy: 0.8875\n",
      "Epoch 47/50\n",
      "7/7 [==============================] - 0s 859us/step - loss: 0.2379 - accuracy: 0.9125\n",
      "Epoch 48/50\n",
      "7/7 [==============================] - 0s 806us/step - loss: 0.1505 - accuracy: 1.0000\n",
      "Epoch 49/50\n",
      "7/7 [==============================] - 0s 776us/step - loss: 0.1533 - accuracy: 1.0000\n",
      "Epoch 50/50\n",
      "7/7 [==============================] - 0s 906us/step - loss: 0.1612 - accuracy: 1.0000\n"
     ]
    }
   ],
   "source": [
    "'''\n",
    "Define the optimizer\n",
    "'''\n",
    "optimizer = keras.optimizers.SGD(learning_rate=0.5)\n",
    "\n",
    "\n",
    "'''\n",
    "Compile the model\n",
    "'''\n",
    "model.compile(loss=\"binary_crossentropy\",\n",
    "              optimizer=optimizer,\n",
    "              metrics=[\"accuracy\"])\n",
    "\n",
    "\n",
    "\n",
    "no_of_epochs = 50\n",
    "size_of_mini_batch = 64\n",
    "\n",
    "history = model.fit(X, y, \n",
    "                    batch_size=size_of_mini_batch, \n",
    "                    epochs=no_of_epochs,\n",
    "                    verbose=1)"
   ]
  },
  {
   "cell_type": "markdown",
   "metadata": {},
   "source": [
    "## Evaluate the LNN Model"
   ]
  },
  {
   "cell_type": "code",
   "execution_count": 6,
   "metadata": {},
   "outputs": [
    {
     "name": "stdout",
     "output_type": "stream",
     "text": [
      "Epochs:  50\n",
      "\n",
      "Test Data: Loss & Accuracy:  [0.22881291806697845, 0.9225000143051147]\n",
      "400\n",
      "\n",
      "Accuracy:  0.9225\n",
      "\n",
      "Confusion Matrix:\n",
      "[[169  31]\n",
      " [  0 200]]\n",
      "\n",
      "Classification Report:\n",
      "              precision    recall  f1-score   support\n",
      "\n",
      "         0.0       1.00      0.84      0.92       200\n",
      "         1.0       0.87      1.00      0.93       200\n",
      "\n",
      "    accuracy                           0.92       400\n",
      "   macro avg       0.93      0.92      0.92       400\n",
      "weighted avg       0.93      0.92      0.92       400\n",
      "\n"
     ]
    }
   ],
   "source": [
    "numOfEpochs = len(history.history['loss'])\n",
    "print(\"Epochs: \", numOfEpochs)\n",
    "\n",
    "print(\"\\nTest Data: Loss & Accuracy: \", model.evaluate(X, y, verbose=0))\n",
    "\n",
    "\n",
    "y_predicted_proba = model.predict(X)\n",
    "\n",
    "print(len(y_predicted_proba))\n",
    "\n",
    "y_predicted = y_predicted_proba\n",
    "\n",
    "for i in range(len(y_predicted)):\n",
    "    if(y_predicted_proba[i] >= 0.5):\n",
    "        y_predicted[i] = 1\n",
    "    else:\n",
    "        y_predicted[i] = 0\n",
    "\n",
    "\n",
    "y_predicted = y_predicted.ravel()\n",
    "accuracy = np.mean(y_predicted == y)\n",
    "print(\"\\nAccuracy: \", accuracy)\n",
    "\n",
    "\n",
    "\n",
    "print(\"\\nConfusion Matrix:\")\n",
    "print(confusion_matrix(y, y_predicted))\n",
    "\n",
    "print(\"\\nClassification Report:\")\n",
    "print(classification_report(y, y_predicted))"
   ]
  },
  {
   "cell_type": "markdown",
   "metadata": {},
   "source": [
    "## Plot The Decision Boundary"
   ]
  },
  {
   "cell_type": "code",
   "execution_count": 7,
   "metadata": {},
   "outputs": [
    {
     "data": {
      "image/png": "[encoded data removed]",
      "text/plain": [
       "<Figure size 864x432 with 1 Axes>"
      ]
     },
     "metadata": {},
     "output_type": "display_data"
    }
   ],
   "source": [
    "plt.figure(figsize=(12, 6))    \n",
    "\n",
    "decision_boundary_class_colored(model, X)\n",
    "\n",
    "plt.plot(X[:, 0][y==1], X[:, 1][y==1], \"bo\", label=\"Class 0\")\n",
    "plt.plot(X[:, 0][y==0], X[:, 1][y==0], \"ro\", label=\"Class 1\")\n",
    "plt.xlabel(\"$x_1$\", fontsize=14)\n",
    "plt.ylabel(\"$x_2$\", fontsize=14)\n",
    "plt.legend(loc=\"upper left\", fontsize=14)\n",
    "plt.title(\"LNN: Binary Classification (Logistic Regression)\", fontsize=16)\n",
    "plt.xticks(())\n",
    "plt.yticks(())\n",
    "plt.axis([-0.05, 1.05, 4, 8.05])\n",
    "\n",
    "plt.show()"
   ]
  }
 ],
 "metadata": {
  "kernelspec": {
   "display_name": "Python 3",
   "language": "python",
   "name": "python3"
  },
  "language_info": {
   "codemirror_mode": {
    "name": "ipython",
    "version": 3
   },
   "file_extension": ".py",
   "mimetype": "text/x-python",
   "name": "python",
   "nbconvert_exporter": "python",
   "pygments_lexer": "ipython3",
   "version": "3.7.3"
  }
 },
 "nbformat": 4,
 "nbformat_minor": 2
}
