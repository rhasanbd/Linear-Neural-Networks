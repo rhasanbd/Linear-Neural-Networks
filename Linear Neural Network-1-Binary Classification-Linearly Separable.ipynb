{
 "cells": [
  {
   "cell_type": "markdown",
   "metadata": {},
   "source": [
    "# Linear Neural Network - Logistic Regression (Linearly Separable Data)\n",
    "\n",
    "In this notebook, we cast the Logistic Regression technique for Binary classification as a Linear Neural Network (LNN).\n",
    "\n",
    "Using the LNN model we perform binary classification on a **linearly separable** data. Then, we visualize the decision boundary."
   ]
  },
  {
   "cell_type": "code",
   "execution_count": 1,
   "metadata": {},
   "outputs": [],
   "source": [
    "import numpy as np\n",
    "import matplotlib.pyplot as plt\n",
    "\n",
    "from sklearn.metrics import confusion_matrix, accuracy_score, classification_report\n",
    "\n",
    "import tensorflow as tf\n",
    "from tensorflow import keras\n",
    "\n",
    "np.random.seed(43)"
   ]
  },
  {
   "cell_type": "markdown",
   "metadata": {},
   "source": [
    "## Decision Bounday: Using Various Thresholds for a Class Probability\n",
    "\n",
    "We define a function to show the decision boundaries at various thresholds of a class probability. Using the different estimates for a single class, we generate a contour plot. "
   ]
  },
  {
   "cell_type": "code",
   "execution_count": 2,
   "metadata": {},
   "outputs": [],
   "source": [
    "def decision_boundary_class_colored(clf, X):\n",
    "    \n",
    "    # Get the min and max value of feature x1\n",
    "    x1min, x1max = X[:,0].min() - 1, X[:, 0].max() + 1\n",
    "    \n",
    "    # Get the min and max value of feature x2\n",
    "    x2min, x2max = X[:,1].min() - 1, X[:, 1].max() + 1\n",
    "    \n",
    "    # Create the mesh grid\n",
    "    x1s = np.linspace(x1min, x1max, 100)\n",
    "    x2s = np.linspace(x2min, x2max, 100)\n",
    "    x1, x2 = np.meshgrid(x1s, x2s)\n",
    "    \n",
    "    \n",
    "    # Create pairs of new points from the grid\n",
    "    X_new = np.c_[x1.ravel(), x2.ravel()]\n",
    "    \n",
    "    \n",
    "    # Compute the class predictions for all new points    \n",
    "    y_pred_proba = clf.predict(X_new).reshape(x1.shape)\n",
    "\n",
    "    y_pred = y_pred_proba\n",
    "            \n",
    "    for i in range(y_pred_proba.shape[0]):\n",
    "        for j in range(y_pred_proba.shape[1]):\n",
    "            if(y_pred_proba[i][j] >= 0.5):\n",
    "                y_pred[i][j] = 1\n",
    "            else:\n",
    "                y_pred[i][j] = 0\n",
    "        \n",
    "    # Generate the contourf plot for the predictions\n",
    "    plt.contourf(x1, x2, y_pred, cmap=plt.cm.summer, alpha=0.9)"
   ]
  },
  {
   "cell_type": "markdown",
   "metadata": {},
   "source": [
    "## Synthetic Dataset: Linearly Separable\n"
   ]
  },
  {
   "cell_type": "code",
   "execution_count": 3,
   "metadata": {},
   "outputs": [
    {
     "data": {
      "image/png": "[encoded data removed]",
      "text/plain": [
       "<Figure size 1152x576 with 1 Axes>"
      ]
     },
     "metadata": {},
     "output_type": "display_data"
    }
   ],
   "source": [
    "m0 = 200  # no. of training examples for class 0\n",
    "\n",
    "\n",
    "# Generate class 0 data points randomly from a uniform distribution\n",
    "#    Here a & b are 2 dimensions for each data (feature) point\n",
    "a = np.random.rand(m0,1)\n",
    "b = 4 + a + np.random.rand(m0,1)\n",
    "\n",
    "\n",
    "# Concatenate the 2 dimensions of each feature to create the data matrix for class 0 \n",
    "X0 = np.concatenate((a, b), axis=1)\n",
    "\n",
    "# Create the target vector for class 0 (target is coded with zeros)\n",
    "X0_target = np.zeros((m0,), dtype=np.int).reshape(-1, 1)\n",
    "\n",
    "\n",
    "m1 = 200  # no. of training examples for class 1\n",
    "\n",
    "\n",
    "# Generate class 1 data points randomly from a uniform distribution\n",
    "#    Here c & d are 2 dimensions for each data (feature) point\n",
    "c = np.random.rand(m1,1)\n",
    "d = 6 + c + np.random.rand(m1,1)\n",
    "\n",
    "# Concatenate the 2 dimensions of each feature to create the data matrix for class 1\n",
    "X1 = np.concatenate((c, d), axis=1)\n",
    "\n",
    "\n",
    "# Create the target vector for class 1 (target is coded with ones)\n",
    "X1_target = np.ones((m1,), dtype=np.int).reshape(-1, 1)\n",
    "\n",
    "\n",
    "\n",
    "# All training examples for class 0 and 1\n",
    "X = np.append(X0, X1, axis=0)\n",
    "\n",
    "# All target values for class 0 & 1\n",
    "y = np.concatenate((X0_target, X1_target), axis=0)\n",
    "\n",
    "\n",
    "# Create a 1D row vector ofthe target with float values\n",
    "y = y.ravel()*1.0\n",
    "\n",
    "\n",
    "\n",
    "# Draw a scatter plot\n",
    "plt.figure(figsize=(16,8))\n",
    "plt.plot(X[:, 0][y==1], X[:, 1][y==1], \"bo\", label=\"Class 0\")\n",
    "plt.plot(X[:, 0][y==0], X[:, 1][y==0], \"ro\", label=\"Class 1\")\n",
    "plt.title(\"Linearly Separable Data\", fontsize=18)\n",
    "plt.legend(loc=2)\n",
    "plt.xlabel(\"$x_1$\", fontsize=12)\n",
    "plt.ylabel(\"$x_2$\", rotation=90, fontsize=12)\n",
    "plt.xticks(())\n",
    "plt.yticks(())\n",
    "plt.show()"
   ]
  },
  {
   "cell_type": "markdown",
   "metadata": {},
   "source": [
    "## Create a LNN Model\n",
    "\n",
    "Using the Keras Dense layer we create the LNN model for Logistic Regression. **In a Dense layer, each neuron is connected to all input/neurons of the previous layer**.\n",
    "\n",
    "The LNN model:\n",
    "- has only one neuron.\n",
    "- uses the logistic sigmoid function.\n",
    "\n",
    "At first, we need to specify the shape of the input using the Input layer. The Input layer is used to instantiate a Keras tensor, which is a TensorFlow symbolic tensor object.\n",
    "- We must set the \"shape\" parameter, which is a tuple (integers) idicating the dimension of the input vectors. In this demo, input is a 2D vector, that's why we simply put [2, ] in the tuple. In image classification problems, an image input will be represented as a matrix, in which case we will need to specify the size of the matrix. For example, for 28 x 28 image input matrix, \"shape\" tuple will be [28, 28]. Note that we don't need to include the batch size.\n",
    "\n",
    "In the Dense layer, we explicitly show the \"use_bias\" parameter. By default, it's set to \"True\". If we change it to \"False\", the model doesn't learn the bias (i.e., \"height\" in this 2D example). The goal of explicitly showing the \"use_bias\" parameter is to understand its impact on model learning.\n",
    "- kernel_initializer: we initialize the weights (also known as kernel) with zero values. In logistic/softmax regression, initial zero weight values are ok. However, in nonlinear neural networks, such as in Multi-layer Perceptron (MLPs), we must use small random values to initialize the weights. For that we need to use sophisticated initializers, such as glorot or he.\n",
    "- activation: we use logistic sigmoid"
   ]
  },
  {
   "cell_type": "code",
   "execution_count": 4,
   "metadata": {},
   "outputs": [
    {
     "name": "stdout",
     "output_type": "stream",
     "text": [
      "Model: \"LNN_Binary_Classifier\"\n",
      "_________________________________________________________________\n",
      "Layer (type)                 Output Shape              Param #   \n",
      "=================================================================\n",
      "dense (Dense)                (None, 1)                 3         \n",
      "=================================================================\n",
      "Total params: 3\n",
      "Trainable params: 3\n",
      "Non-trainable params: 0\n",
      "_________________________________________________________________\n",
      "CPU times: user 105 ms, sys: 5.2 ms, total: 111 ms\n",
      "Wall time: 116 ms\n"
     ]
    }
   ],
   "source": [
    "%%time\n",
    "\n",
    "'''\n",
    "Delete the TensorFlow graph before creating a new model, otherwise memory overflow will occur.\n",
    "'''\n",
    "keras.backend.clear_session()\n",
    "\n",
    "'''\n",
    "To reproduce the same result by the model in each iteration, we use fixed seeds for random number generation. \n",
    "'''\n",
    "np.random.seed(42)\n",
    "tf.random.set_seed(42)\n",
    "\n",
    "\n",
    "'''\n",
    "Create a Sequential model composed of a single stack of layers connected sequentially. \n",
    "'''\n",
    "model = keras.models.Sequential(name=\"LNN_Binary_Classifier\")\n",
    "model.add(keras.layers.Input(shape=[2, ]))\n",
    "model.add(keras.layers.Dense(units=1, kernel_initializer=\"zeros\", activation=\"sigmoid\", use_bias=True))\n",
    "\n",
    "\n",
    "model.summary()"
   ]
  },
  {
   "cell_type": "markdown",
   "metadata": {},
   "source": [
    "## Compile & Train the LNN Model"
   ]
  },
  {
   "cell_type": "code",
   "execution_count": 5,
   "metadata": {},
   "outputs": [
    {
     "name": "stdout",
     "output_type": "stream",
     "text": [
      "Epoch 1/50\n",
      "7/7 [==============================] - 0s 833us/step - loss: 1.8492 - accuracy: 0.4850\n",
      "Epoch 2/50\n",
      "7/7 [==============================] - 0s 782us/step - loss: 1.4756 - accuracy: 0.5500\n",
      "Epoch 3/50\n",
      "7/7 [==============================] - 0s 755us/step - loss: 1.7351 - accuracy: 0.4750\n",
      "Epoch 4/50\n",
      "7/7 [==============================] - 0s 752us/step - loss: 1.9287 - accuracy: 0.4950\n",
      "Epoch 5/50\n",
      "7/7 [==============================] - 0s 765us/step - loss: 1.7006 - accuracy: 0.5050\n",
      "Epoch 6/50\n",
      "7/7 [==============================] - 0s 818us/step - loss: 1.7413 - accuracy: 0.5225\n",
      "Epoch 7/50\n",
      "7/7 [==============================] - 0s 742us/step - loss: 1.5001 - accuracy: 0.5300\n",
      "Epoch 8/50\n",
      "7/7 [==============================] - 0s 743us/step - loss: 1.4810 - accuracy: 0.5000\n",
      "Epoch 9/50\n",
      "7/7 [==============================] - 0s 766us/step - loss: 1.5007 - accuracy: 0.5200\n",
      "Epoch 10/50\n",
      "7/7 [==============================] - 0s 758us/step - loss: 1.8201 - accuracy: 0.4725\n",
      "Epoch 11/50\n",
      "7/7 [==============================] - 0s 738us/step - loss: 1.3522 - accuracy: 0.6000\n",
      "Epoch 12/50\n",
      "7/7 [==============================] - 0s 759us/step - loss: 1.7078 - accuracy: 0.4900\n",
      "Epoch 13/50\n",
      "7/7 [==============================] - 0s 757us/step - loss: 1.4613 - accuracy: 0.5875\n",
      "Epoch 14/50\n",
      "7/7 [==============================] - 0s 764us/step - loss: 1.4017 - accuracy: 0.6050\n",
      "Epoch 15/50\n",
      "7/7 [==============================] - 0s 739us/step - loss: 1.6142 - accuracy: 0.5175\n",
      "Epoch 16/50\n",
      "7/7 [==============================] - 0s 774us/step - loss: 1.4072 - accuracy: 0.6675\n",
      "Epoch 17/50\n",
      "7/7 [==============================] - 0s 778us/step - loss: 1.1945 - accuracy: 0.5450\n",
      "Epoch 18/50\n",
      "7/7 [==============================] - 0s 807us/step - loss: 1.2901 - accuracy: 0.5225\n",
      "Epoch 19/50\n",
      "7/7 [==============================] - 0s 745us/step - loss: 1.4626 - accuracy: 0.5300\n",
      "Epoch 20/50\n",
      "7/7 [==============================] - 0s 742us/step - loss: 1.2428 - accuracy: 0.6500\n",
      "Epoch 21/50\n",
      "7/7 [==============================] - 0s 751us/step - loss: 1.4976 - accuracy: 0.5600\n",
      "Epoch 22/50\n",
      "7/7 [==============================] - 0s 764us/step - loss: 0.7778 - accuracy: 0.6950\n",
      "Epoch 23/50\n",
      "7/7 [==============================] - 0s 768us/step - loss: 0.9033 - accuracy: 0.5825\n",
      "Epoch 24/50\n",
      "7/7 [==============================] - 0s 745us/step - loss: 1.1399 - accuracy: 0.6075\n",
      "Epoch 25/50\n",
      "7/7 [==============================] - 0s 770us/step - loss: 1.1154 - accuracy: 0.5875\n",
      "Epoch 26/50\n",
      "7/7 [==============================] - 0s 820us/step - loss: 0.9941 - accuracy: 0.6975\n",
      "Epoch 27/50\n",
      "7/7 [==============================] - 0s 827us/step - loss: 1.1594 - accuracy: 0.5375\n",
      "Epoch 28/50\n",
      "7/7 [==============================] - 0s 766us/step - loss: 1.0845 - accuracy: 0.5850\n",
      "Epoch 29/50\n",
      "7/7 [==============================] - 0s 775us/step - loss: 0.9241 - accuracy: 0.5475\n",
      "Epoch 30/50\n",
      "7/7 [==============================] - 0s 734us/step - loss: 1.0027 - accuracy: 0.6675\n",
      "Epoch 31/50\n",
      "7/7 [==============================] - 0s 733us/step - loss: 1.1650 - accuracy: 0.5300\n",
      "Epoch 32/50\n",
      "7/7 [==============================] - 0s 730us/step - loss: 0.8872 - accuracy: 0.6475\n",
      "Epoch 33/50\n",
      "7/7 [==============================] - 0s 765us/step - loss: 1.0763 - accuracy: 0.5725\n",
      "Epoch 34/50\n",
      "7/7 [==============================] - 0s 768us/step - loss: 0.7432 - accuracy: 0.7325\n",
      "Epoch 35/50\n",
      "7/7 [==============================] - 0s 741us/step - loss: 0.9072 - accuracy: 0.5625\n",
      "Epoch 36/50\n",
      "7/7 [==============================] - 0s 784us/step - loss: 0.8619 - accuracy: 0.5700\n",
      "Epoch 37/50\n",
      "7/7 [==============================] - 0s 786us/step - loss: 0.9230 - accuracy: 0.6450\n",
      "Epoch 38/50\n",
      "7/7 [==============================] - 0s 754us/step - loss: 0.8299 - accuracy: 0.5875\n",
      "Epoch 39/50\n",
      "7/7 [==============================] - 0s 776us/step - loss: 0.7017 - accuracy: 0.6700\n",
      "Epoch 40/50\n",
      "7/7 [==============================] - 0s 795us/step - loss: 0.1876 - accuracy: 0.9750\n",
      "Epoch 41/50\n",
      "7/7 [==============================] - 0s 759us/step - loss: 0.5909 - accuracy: 0.6900\n",
      "Epoch 42/50\n",
      "7/7 [==============================] - 0s 761us/step - loss: 0.3414 - accuracy: 0.8200\n",
      "Epoch 43/50\n",
      "7/7 [==============================] - 0s 836us/step - loss: 0.7919 - accuracy: 0.6100\n",
      "Epoch 44/50\n",
      "7/7 [==============================] - 0s 733us/step - loss: 0.2868 - accuracy: 0.8700\n",
      "Epoch 45/50\n",
      "7/7 [==============================] - 0s 770us/step - loss: 0.3451 - accuracy: 0.8125\n",
      "Epoch 46/50\n",
      "7/7 [==============================] - 0s 827us/step - loss: 0.2160 - accuracy: 0.9400\n",
      "Epoch 47/50\n",
      "7/7 [==============================] - 0s 759us/step - loss: 0.2123 - accuracy: 0.9325\n",
      "Epoch 48/50\n",
      "7/7 [==============================] - 0s 727us/step - loss: 0.1562 - accuracy: 1.0000\n",
      "Epoch 49/50\n",
      "7/7 [==============================] - 0s 731us/step - loss: 0.1608 - accuracy: 0.9950\n",
      "Epoch 50/50\n",
      "7/7 [==============================] - 0s 733us/step - loss: 0.1620 - accuracy: 0.9925\n"
     ]
    }
   ],
   "source": [
    "'''\n",
    "Define the optimizer\n",
    "'''\n",
    "optimizer = keras.optimizers.SGD(learning_rate=0.5)\n",
    "\n",
    "\n",
    "'''\n",
    "Compile the model\n",
    "'''\n",
    "model.compile(loss=\"binary_crossentropy\",\n",
    "              optimizer=optimizer,\n",
    "              metrics=[\"accuracy\"])\n",
    "\n",
    "\n",
    "\n",
    "no_of_epochs = 50\n",
    "size_of_mini_batch = 64\n",
    "\n",
    "history = model.fit(X, y, \n",
    "                    batch_size=size_of_mini_batch, \n",
    "                    epochs=no_of_epochs,\n",
    "                    verbose=1)"
   ]
  },
  {
   "cell_type": "markdown",
   "metadata": {},
   "source": [
    "## Evaluate the LNN Model"
   ]
  },
  {
   "cell_type": "code",
   "execution_count": 6,
   "metadata": {},
   "outputs": [
    {
     "name": "stdout",
     "output_type": "stream",
     "text": [
      "Epochs:  50\n",
      "\n",
      "Test Data: Loss & Accuracy:  [0.2099352478981018, 0.9474999904632568]\n",
      "400\n",
      "\n",
      "Accuracy:  0.9475\n",
      "\n",
      "Confusion Matrix:\n",
      "[[179  21]\n",
      " [  0 200]]\n",
      "\n",
      "Classification Report:\n",
      "              precision    recall  f1-score   support\n",
      "\n",
      "         0.0       1.00      0.90      0.94       200\n",
      "         1.0       0.90      1.00      0.95       200\n",
      "\n",
      "    accuracy                           0.95       400\n",
      "   macro avg       0.95      0.95      0.95       400\n",
      "weighted avg       0.95      0.95      0.95       400\n",
      "\n"
     ]
    }
   ],
   "source": [
    "numOfEpochs = len(history.history['loss'])\n",
    "print(\"Epochs: \", numOfEpochs)\n",
    "\n",
    "print(\"\\nTest Data: Loss & Accuracy: \", model.evaluate(X, y, verbose=0))\n",
    "\n",
    "\n",
    "y_predicted_proba = model.predict(X)\n",
    "\n",
    "print(len(y_predicted_proba))\n",
    "\n",
    "y_predicted = y_predicted_proba\n",
    "\n",
    "for i in range(len(y_predicted)):\n",
    "    if(y_predicted_proba[i] >= 0.5):\n",
    "        y_predicted[i] = 1\n",
    "    else:\n",
    "        y_predicted[i] = 0\n",
    "\n",
    "\n",
    "y_predicted = y_predicted.ravel()\n",
    "accuracy = np.mean(y_predicted == y)\n",
    "print(\"\\nAccuracy: \", accuracy)\n",
    "\n",
    "\n",
    "\n",
    "print(\"\\nConfusion Matrix:\")\n",
    "print(confusion_matrix(y, y_predicted))\n",
    "\n",
    "print(\"\\nClassification Report:\")\n",
    "print(classification_report(y, y_predicted))"
   ]
  },
  {
   "cell_type": "markdown",
   "metadata": {},
   "source": [
    "## Plot The Decision Boundary"
   ]
  },
  {
   "cell_type": "code",
   "execution_count": 7,
   "metadata": {},
   "outputs": [
    {
     "data": {
      "image/png": "[encoded data removed]",
      "text/plain": [
       "<Figure size 864x432 with 1 Axes>"
      ]
     },
     "metadata": {},
     "output_type": "display_data"
    }
   ],
   "source": [
    "plt.figure(figsize=(12, 6))    \n",
    "\n",
    "decision_boundary_class_colored(model, X)\n",
    "\n",
    "plt.plot(X[:, 0][y==1], X[:, 1][y==1], \"bo\", label=\"Class 0\")\n",
    "plt.plot(X[:, 0][y==0], X[:, 1][y==0], \"ro\", label=\"Class 1\")\n",
    "plt.xlabel(\"$x_1$\", fontsize=14)\n",
    "plt.ylabel(\"$x_2$\", fontsize=14)\n",
    "plt.legend(loc=\"upper left\", fontsize=14)\n",
    "plt.title(\"LNN: Binary Classification (Logistic Regression)\", fontsize=16)\n",
    "plt.xticks(())\n",
    "plt.yticks(())\n",
    "plt.axis([-0.05, 1.05, 4, 8.05])\n",
    "\n",
    "plt.show()"
   ]
  }
 ],
 "metadata": {
  "kernelspec": {
   "display_name": "Python 3",
   "language": "python",
   "name": "python3"
  },
  "language_info": {
   "codemirror_mode": {
    "name": "ipython",
    "version": 3
   },
   "file_extension": ".py",
   "mimetype": "text/x-python",
   "name": "python",
   "nbconvert_exporter": "python",
   "pygments_lexer": "ipython3",
   "version": "3.7.3"
  }
 },
 "nbformat": 4,
 "nbformat_minor": 2
}
